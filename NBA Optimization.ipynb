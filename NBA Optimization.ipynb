{
 "cells": [
  {
   "cell_type": "markdown",
   "id": "bcb4e948",
   "metadata": {},
   "source": [
    "## Data reading and Cleaning"
   ]
  },
  {
   "cell_type": "markdown",
   "id": "b14da523",
   "metadata": {},
   "source": [
    "Data and more detailed explanations of the data can be found at the following websites:\n",
    "\n",
    "https://www.basketball-reference.com/leagues/NBA_2023_advanced.html \n",
    "\n",
    "\n",
    "https://www.basketball-reference.com/contracts/players.html"
   ]
  },
  {
   "cell_type": "code",
   "execution_count": 1,
   "id": "7e0e7803",
   "metadata": {
    "scrolled": false
   },
   "outputs": [
    {
     "data": {
      "text/plain": [
       "(459, 34)"
      ]
     },
     "execution_count": 1,
     "metadata": {},
     "output_type": "execute_result"
    }
   ],
   "source": [
    "# Read in the data\n",
    "\n",
    "using CSV, DataFrames\n",
    "data = DataFrame(CSV.File(\"C:\\\\Users\\\\tfurr\\\\OneDrive\\\\Documents\\\\optprojectdata.csv\"))\n",
    "size(data)"
   ]
  },
  {
   "cell_type": "code",
   "execution_count": 2,
   "id": "e341953e",
   "metadata": {
    "scrolled": true
   },
   "outputs": [
    {
     "data": {
      "text/html": [
       "<div><div style = \"float: left;\"><span>5×34 DataFrame</span></div><div style = \"clear: both;\"></div></div><div class = \"data-frame\" style = \"overflow-x: scroll;\"><table class = \"data-frame\" style = \"margin-bottom: 6px;\"><thead><tr class = \"header\"><th class = \"rowNumber\" style = \"font-weight: bold; text-align: right;\">Row</th><th style = \"text-align: left;\">PlayerID</th><th style = \"text-align: left;\">Player</th><th style = \"text-align: left;\">Pos</th><th style = \"text-align: left;\">Age</th><th style = \"text-align: left;\">Team</th><th style = \"text-align: left;\">G</th><th style = \"text-align: left;\">MP</th><th style = \"text-align: left;\">MinM</th><th style = \"text-align: left;\">PER</th><th style = \"text-align: left;\">TS_perc</th><th style = \"text-align: left;\">X3PAr</th><th style = \"text-align: left;\">FTr</th><th style = \"text-align: left;\">ORB_perc</th><th style = \"text-align: left;\">DRB_perc</th><th style = \"text-align: left;\">TRB_perc</th><th style = \"text-align: left;\">AST_perc</th><th style = \"text-align: left;\">STL_perc</th><th style = \"text-align: left;\">BLK_perc</th><th style = \"text-align: left;\">TOV_perc</th><th style = \"text-align: left;\">USG_perc</th><th style = \"text-align: left;\">OWS</th><th style = \"text-align: left;\">DWS</th><th style = \"text-align: left;\">WS</th><th style = \"text-align: left;\">WS_per_48</th><th style = \"text-align: left;\">OBPM</th><th style = \"text-align: left;\">DBPM</th><th style = \"text-align: left;\">BPM</th><th style = \"text-align: left;\">VORP</th><th style = \"text-align: left;\">X2022_23</th><th style = \"text-align: left;\">C</th><th style = \"text-align: left;\">SG</th><th style = \"text-align: left;\">SF</th><th style = \"text-align: left;\">PG</th><th style = \"text-align: left;\">PF</th></tr><tr class = \"subheader headerLastRow\"><th class = \"rowNumber\" style = \"font-weight: bold; text-align: right;\"></th><th title = \"String15\" style = \"text-align: left;\">String15</th><th title = \"String31\" style = \"text-align: left;\">String31</th><th title = \"String7\" style = \"text-align: left;\">String7</th><th title = \"Int64\" style = \"text-align: left;\">Int64</th><th title = \"String3\" style = \"text-align: left;\">String3</th><th title = \"Int64\" style = \"text-align: left;\">Int64</th><th title = \"Int64\" style = \"text-align: left;\">Int64</th><th title = \"Int64\" style = \"text-align: left;\">Int64</th><th title = \"Float64\" style = \"text-align: left;\">Float64</th><th title = \"Float64\" style = \"text-align: left;\">Float64</th><th title = \"Float64\" style = \"text-align: left;\">Float64</th><th title = \"Float64\" style = \"text-align: left;\">Float64</th><th title = \"Float64\" style = \"text-align: left;\">Float64</th><th title = \"Float64\" style = \"text-align: left;\">Float64</th><th title = \"Float64\" style = \"text-align: left;\">Float64</th><th title = \"Float64\" style = \"text-align: left;\">Float64</th><th title = \"Float64\" style = \"text-align: left;\">Float64</th><th title = \"Float64\" style = \"text-align: left;\">Float64</th><th title = \"Float64\" style = \"text-align: left;\">Float64</th><th title = \"Float64\" style = \"text-align: left;\">Float64</th><th title = \"Float64\" style = \"text-align: left;\">Float64</th><th title = \"Float64\" style = \"text-align: left;\">Float64</th><th title = \"Float64\" style = \"text-align: left;\">Float64</th><th title = \"Float64\" style = \"text-align: left;\">Float64</th><th title = \"Float64\" style = \"text-align: left;\">Float64</th><th title = \"Float64\" style = \"text-align: left;\">Float64</th><th title = \"Float64\" style = \"text-align: left;\">Float64</th><th title = \"Float64\" style = \"text-align: left;\">Float64</th><th title = \"Union{Missing, Int64}\" style = \"text-align: left;\">Int64?</th><th title = \"Int64\" style = \"text-align: left;\">Int64</th><th title = \"Int64\" style = \"text-align: left;\">Int64</th><th title = \"Int64\" style = \"text-align: left;\">Int64</th><th title = \"Int64\" style = \"text-align: left;\">Int64</th><th title = \"Int64\" style = \"text-align: left;\">Int64</th></tr></thead><tbody><tr><td class = \"rowNumber\" style = \"font-weight: bold; text-align: right;\">1</td><td style = \"text-align: left;\">jokicni01</td><td style = \"text-align: left;\">Nikola Jokic</td><td style = \"text-align: left;\">C</td><td style = \"text-align: right;\">27</td><td style = \"text-align: left;\">DEN</td><td style = \"text-align: right;\">51</td><td style = \"text-align: right;\">1714</td><td style = \"text-align: right;\">408</td><td style = \"text-align: right;\">31.8</td><td style = \"text-align: right;\">0.703</td><td style = \"text-align: right;\">0.145</td><td style = \"text-align: right;\">0.414</td><td style = \"text-align: right;\">7.4</td><td style = \"text-align: right;\">31.6</td><td style = \"text-align: right;\">19.8</td><td style = \"text-align: right;\">47.3</td><td style = \"text-align: right;\">1.8</td><td style = \"text-align: right;\">1.9</td><td style = \"text-align: right;\">16.8</td><td style = \"text-align: right;\">27.3</td><td style = \"text-align: right;\">8.6</td><td style = \"text-align: right;\">2.7</td><td style = \"text-align: right;\">11.3</td><td style = \"text-align: right;\">0.318</td><td style = \"text-align: right;\">8.6</td><td style = \"text-align: right;\">4.6</td><td style = \"text-align: right;\">13.2</td><td style = \"text-align: right;\">6.6</td><td style = \"text-align: right;\">33047803</td><td style = \"text-align: right;\">1</td><td style = \"text-align: right;\">0</td><td style = \"text-align: right;\">0</td><td style = \"text-align: right;\">0</td><td style = \"text-align: right;\">0</td></tr><tr><td class = \"rowNumber\" style = \"font-weight: bold; text-align: right;\">2</td><td style = \"text-align: left;\">embiijo01</td><td style = \"text-align: left;\">Joel Embiid</td><td style = \"text-align: left;\">C</td><td style = \"text-align: right;\">28</td><td style = \"text-align: left;\">PHI</td><td style = \"text-align: right;\">45</td><td style = \"text-align: right;\">1571</td><td style = \"text-align: right;\">360</td><td style = \"text-align: right;\">30.6</td><td style = \"text-align: right;\">0.646</td><td style = \"text-align: right;\">0.153</td><td style = \"text-align: right;\">0.564</td><td style = \"text-align: right;\">6.0</td><td style = \"text-align: right;\">27.9</td><td style = \"text-align: right;\">17.1</td><td style = \"text-align: right;\">22.3</td><td style = \"text-align: right;\">1.6</td><td style = \"text-align: right;\">4.0</td><td style = \"text-align: right;\">12.1</td><td style = \"text-align: right;\">37.2</td><td style = \"text-align: right;\">5.3</td><td style = \"text-align: right;\">2.8</td><td style = \"text-align: right;\">8.1</td><td style = \"text-align: right;\">0.246</td><td style = \"text-align: right;\">6.3</td><td style = \"text-align: right;\">2.1</td><td style = \"text-align: right;\">8.4</td><td style = \"text-align: right;\">4.1</td><td style = \"text-align: right;\">33616770</td><td style = \"text-align: right;\">1</td><td style = \"text-align: right;\">0</td><td style = \"text-align: right;\">0</td><td style = \"text-align: right;\">0</td><td style = \"text-align: right;\">0</td></tr><tr><td class = \"rowNumber\" style = \"font-weight: bold; text-align: right;\">3</td><td style = \"text-align: left;\">doncilu01</td><td style = \"text-align: left;\">Luka Doncic</td><td style = \"text-align: left;\">PG</td><td style = \"text-align: right;\">23</td><td style = \"text-align: left;\">DAL</td><td style = \"text-align: right;\">50</td><td style = \"text-align: right;\">1826</td><td style = \"text-align: right;\">400</td><td style = \"text-align: right;\">30.2</td><td style = \"text-align: right;\">0.614</td><td style = \"text-align: right;\">0.353</td><td style = \"text-align: right;\">0.499</td><td style = \"text-align: right;\">2.9</td><td style = \"text-align: right;\">26.1</td><td style = \"text-align: right;\">14.3</td><td style = \"text-align: right;\">44.5</td><td style = \"text-align: right;\">2.1</td><td style = \"text-align: right;\">1.2</td><td style = \"text-align: right;\">11.9</td><td style = \"text-align: right;\">38.3</td><td style = \"text-align: right;\">6.3</td><td style = \"text-align: right;\">2.4</td><td style = \"text-align: right;\">8.6</td><td style = \"text-align: right;\">0.226</td><td style = \"text-align: right;\">8.2</td><td style = \"text-align: right;\">1.9</td><td style = \"text-align: right;\">10.1</td><td style = \"text-align: right;\">5.5</td><td style = \"text-align: right;\">37096500</td><td style = \"text-align: right;\">0</td><td style = \"text-align: right;\">0</td><td style = \"text-align: right;\">0</td><td style = \"text-align: right;\">1</td><td style = \"text-align: right;\">0</td></tr><tr><td class = \"rowNumber\" style = \"font-weight: bold; text-align: right;\">4</td><td style = \"text-align: left;\">antetgi01</td><td style = \"text-align: left;\">Giannis Antetokounmpo</td><td style = \"text-align: left;\">PF</td><td style = \"text-align: right;\">28</td><td style = \"text-align: left;\">MIL</td><td style = \"text-align: right;\">47</td><td style = \"text-align: right;\">1554</td><td style = \"text-align: right;\">376</td><td style = \"text-align: right;\">28.4</td><td style = \"text-align: right;\">0.595</td><td style = \"text-align: right;\">0.143</td><td style = \"text-align: right;\">0.617</td><td style = \"text-align: right;\">7.5</td><td style = \"text-align: right;\">30.0</td><td style = \"text-align: right;\">19.1</td><td style = \"text-align: right;\">31.4</td><td style = \"text-align: right;\">1.1</td><td style = \"text-align: right;\">2.0</td><td style = \"text-align: right;\">13.0</td><td style = \"text-align: right;\">39.0</td><td style = \"text-align: right;\">3.5</td><td style = \"text-align: right;\">2.9</td><td style = \"text-align: right;\">6.4</td><td style = \"text-align: right;\">0.197</td><td style = \"text-align: right;\">5.4</td><td style = \"text-align: right;\">2.5</td><td style = \"text-align: right;\">7.9</td><td style = \"text-align: right;\">3.9</td><td style = \"text-align: right;\">42492492</td><td style = \"text-align: right;\">0</td><td style = \"text-align: right;\">0</td><td style = \"text-align: right;\">0</td><td style = \"text-align: right;\">0</td><td style = \"text-align: right;\">1</td></tr><tr><td class = \"rowNumber\" style = \"font-weight: bold; text-align: right;\">5</td><td style = \"text-align: left;\">davisan02</td><td style = \"text-align: left;\">Anthony Davis</td><td style = \"text-align: left;\">C</td><td style = \"text-align: right;\">29</td><td style = \"text-align: left;\">LAL</td><td style = \"text-align: right;\">35</td><td style = \"text-align: right;\">1168</td><td style = \"text-align: right;\">280</td><td style = \"text-align: right;\">28.4</td><td style = \"text-align: right;\">0.628</td><td style = \"text-align: right;\">0.085</td><td style = \"text-align: right;\">0.417</td><td style = \"text-align: right;\">10.8</td><td style = \"text-align: right;\">28.1</td><td style = \"text-align: right;\">19.7</td><td style = \"text-align: right;\">12.7</td><td style = \"text-align: right;\">1.7</td><td style = \"text-align: right;\">5.1</td><td style = \"text-align: right;\">9.3</td><td style = \"text-align: right;\">28.8</td><td style = \"text-align: right;\">3.4</td><td style = \"text-align: right;\">2.0</td><td style = \"text-align: right;\">5.4</td><td style = \"text-align: right;\">0.224</td><td style = \"text-align: right;\">4.6</td><td style = \"text-align: right;\">1.7</td><td style = \"text-align: right;\">6.3</td><td style = \"text-align: right;\">2.4</td><td style = \"text-align: right;\">37980720</td><td style = \"text-align: right;\">1</td><td style = \"text-align: right;\">0</td><td style = \"text-align: right;\">0</td><td style = \"text-align: right;\">0</td><td style = \"text-align: right;\">0</td></tr></tbody></table></div>"
      ],
      "text/latex": [
       "\\begin{tabular}{r|ccccccccc}\n",
       "\t& PlayerID & Player & Pos & Age & Team & G & MP & MinM & \\\\\n",
       "\t\\hline\n",
       "\t& String15 & String31 & String7 & Int64 & String3 & Int64 & Int64 & Int64 & \\\\\n",
       "\t\\hline\n",
       "\t1 & jokicni01 & Nikola Jokic & C & 27 & DEN & 51 & 1714 & 408 & $\\dots$ \\\\\n",
       "\t2 & embiijo01 & Joel Embiid & C & 28 & PHI & 45 & 1571 & 360 & $\\dots$ \\\\\n",
       "\t3 & doncilu01 & Luka Doncic & PG & 23 & DAL & 50 & 1826 & 400 & $\\dots$ \\\\\n",
       "\t4 & antetgi01 & Giannis Antetokounmpo & PF & 28 & MIL & 47 & 1554 & 376 & $\\dots$ \\\\\n",
       "\t5 & davisan02 & Anthony Davis & C & 29 & LAL & 35 & 1168 & 280 & $\\dots$ \\\\\n",
       "\\end{tabular}\n"
      ],
      "text/plain": [
       "\u001b[1m5×34 DataFrame\u001b[0m\n",
       "\u001b[1m Row \u001b[0m│\u001b[1m PlayerID  \u001b[0m\u001b[1m Player                \u001b[0m\u001b[1m Pos     \u001b[0m\u001b[1m Age   \u001b[0m\u001b[1m Team    \u001b[0m\u001b[1m G     \u001b[0m\u001b[1m MP   \u001b[0m ⋯\n",
       "     │\u001b[90m String15  \u001b[0m\u001b[90m String31              \u001b[0m\u001b[90m String7 \u001b[0m\u001b[90m Int64 \u001b[0m\u001b[90m String3 \u001b[0m\u001b[90m Int64 \u001b[0m\u001b[90m Int64\u001b[0m ⋯\n",
       "─────┼──────────────────────────────────────────────────────────────────────────\n",
       "   1 │ jokicni01  Nikola Jokic           C           27  DEN         51   1714 ⋯\n",
       "   2 │ embiijo01  Joel Embiid            C           28  PHI         45   1571\n",
       "   3 │ doncilu01  Luka Doncic            PG          23  DAL         50   1826\n",
       "   4 │ antetgi01  Giannis Antetokounmpo  PF          28  MIL         47   1554\n",
       "   5 │ davisan02  Anthony Davis          C           29  LAL         35   1168 ⋯\n",
       "\u001b[36m                                                              27 columns omitted\u001b[0m"
      ]
     },
     "execution_count": 2,
     "metadata": {},
     "output_type": "execute_result"
    }
   ],
   "source": [
    "# Only keep necessary columns. Also makes sure we drop duplicate players that show up\n",
    "\n",
    "data = data[:,1:34]\n",
    "data = unique(data[completecases(data), :])\n",
    "data[1:5,:]"
   ]
  },
  {
   "cell_type": "code",
   "execution_count": 3,
   "id": "f22020de",
   "metadata": {
    "scrolled": true
   },
   "outputs": [
    {
     "data": {
      "text/plain": [
       "441-element Vector{String}:\n",
       " \"Nikola Jokic\"\n",
       " \"Joel Embiid\"\n",
       " \"Luka Doncic\"\n",
       " \"Giannis Antetokounmpo\"\n",
       " \"Anthony Davis\"\n",
       " \"Shai Gilgeous-Alexander\"\n",
       " \"Damian Lillard\"\n",
       " \"Kevin Durant\"\n",
       " \"Jaden Springer\"\n",
       " \"Boban Marjanovic\"\n",
       " \"Jimmy Butler\"\n",
       " \"Zion Williamson\"\n",
       " \"LeBron James\"\n",
       " ⋮\n",
       " \"Kessler Edwards\"\n",
       " \"Blake Wesley\"\n",
       " \"Johnny Davis\"\n",
       " \"Thasis Antetokounmpo\"\n",
       " \"Danny Green\"\n",
       " \"Ryan Arcidiacono\"\n",
       " \"Ryan Rollins\"\n",
       " \"Isaiah Todd\"\n",
       " \"Udonis Haslem\"\n",
       " \"Chima Moneke\"\n",
       " \"Leandro Bolmaro\"\n",
       " \"Marko Simonovic\""
      ]
     },
     "execution_count": 3,
     "metadata": {},
     "output_type": "execute_result"
    }
   ],
   "source": [
    "# Some players names are spelled wrong or Julia has some difficulty with non-English characters\n",
    "\n",
    "data.Player = replace.(data.Player, \"Kawhi Leord\" => \"Kawhi Leonard\")\n",
    "data.Player = replace.(data.Player, \"Willy Herng\\xf3mez\" => \"Willy Hernangomez\")"
   ]
  },
  {
   "cell_type": "code",
   "execution_count": 4,
   "id": "c4624172",
   "metadata": {
    "scrolled": false
   },
   "outputs": [
    {
     "data": {
      "text/html": [
       "<div><div style = \"float: left;\"><span>5×12 DataFrame</span></div><div style = \"clear: both;\"></div></div><div class = \"data-frame\" style = \"overflow-x: scroll;\"><table class = \"data-frame\" style = \"margin-bottom: 6px;\"><thead><tr class = \"header\"><th class = \"rowNumber\" style = \"font-weight: bold; text-align: right;\">Row</th><th style = \"text-align: left;\">PlayerID</th><th style = \"text-align: left;\">Player</th><th style = \"text-align: left;\">Pos</th><th style = \"text-align: left;\">MP</th><th style = \"text-align: left;\">MinM</th><th style = \"text-align: left;\">PER</th><th style = \"text-align: left;\">X2022_23</th><th style = \"text-align: left;\">C</th><th style = \"text-align: left;\">SG</th><th style = \"text-align: left;\">SF</th><th style = \"text-align: left;\">PG</th><th style = \"text-align: left;\">PF</th></tr><tr class = \"subheader headerLastRow\"><th class = \"rowNumber\" style = \"font-weight: bold; text-align: right;\"></th><th title = \"String15\" style = \"text-align: left;\">String15</th><th title = \"String\" style = \"text-align: left;\">String</th><th title = \"String7\" style = \"text-align: left;\">String7</th><th title = \"Int64\" style = \"text-align: left;\">Int64</th><th title = \"Int64\" style = \"text-align: left;\">Int64</th><th title = \"Float64\" style = \"text-align: left;\">Float64</th><th title = \"Union{Missing, Int64}\" style = \"text-align: left;\">Int64?</th><th title = \"Int64\" style = \"text-align: left;\">Int64</th><th title = \"Int64\" style = \"text-align: left;\">Int64</th><th title = \"Int64\" style = \"text-align: left;\">Int64</th><th title = \"Int64\" style = \"text-align: left;\">Int64</th><th title = \"Int64\" style = \"text-align: left;\">Int64</th></tr></thead><tbody><tr><td class = \"rowNumber\" style = \"font-weight: bold; text-align: right;\">1</td><td style = \"text-align: left;\">jokicni01</td><td style = \"text-align: left;\">Nikola Jokic</td><td style = \"text-align: left;\">C</td><td style = \"text-align: right;\">1714</td><td style = \"text-align: right;\">408</td><td style = \"text-align: right;\">31.8</td><td style = \"text-align: right;\">33047803</td><td style = \"text-align: right;\">1</td><td style = \"text-align: right;\">0</td><td style = \"text-align: right;\">0</td><td style = \"text-align: right;\">0</td><td style = \"text-align: right;\">0</td></tr><tr><td class = \"rowNumber\" style = \"font-weight: bold; text-align: right;\">2</td><td style = \"text-align: left;\">embiijo01</td><td style = \"text-align: left;\">Joel Embiid</td><td style = \"text-align: left;\">C</td><td style = \"text-align: right;\">1571</td><td style = \"text-align: right;\">360</td><td style = \"text-align: right;\">30.6</td><td style = \"text-align: right;\">33616770</td><td style = \"text-align: right;\">1</td><td style = \"text-align: right;\">0</td><td style = \"text-align: right;\">0</td><td style = \"text-align: right;\">0</td><td style = \"text-align: right;\">0</td></tr><tr><td class = \"rowNumber\" style = \"font-weight: bold; text-align: right;\">3</td><td style = \"text-align: left;\">doncilu01</td><td style = \"text-align: left;\">Luka Doncic</td><td style = \"text-align: left;\">PG</td><td style = \"text-align: right;\">1826</td><td style = \"text-align: right;\">400</td><td style = \"text-align: right;\">30.2</td><td style = \"text-align: right;\">37096500</td><td style = \"text-align: right;\">0</td><td style = \"text-align: right;\">0</td><td style = \"text-align: right;\">0</td><td style = \"text-align: right;\">1</td><td style = \"text-align: right;\">0</td></tr><tr><td class = \"rowNumber\" style = \"font-weight: bold; text-align: right;\">4</td><td style = \"text-align: left;\">antetgi01</td><td style = \"text-align: left;\">Giannis Antetokounmpo</td><td style = \"text-align: left;\">PF</td><td style = \"text-align: right;\">1554</td><td style = \"text-align: right;\">376</td><td style = \"text-align: right;\">28.4</td><td style = \"text-align: right;\">42492492</td><td style = \"text-align: right;\">0</td><td style = \"text-align: right;\">0</td><td style = \"text-align: right;\">0</td><td style = \"text-align: right;\">0</td><td style = \"text-align: right;\">1</td></tr><tr><td class = \"rowNumber\" style = \"font-weight: bold; text-align: right;\">5</td><td style = \"text-align: left;\">davisan02</td><td style = \"text-align: left;\">Anthony Davis</td><td style = \"text-align: left;\">C</td><td style = \"text-align: right;\">1168</td><td style = \"text-align: right;\">280</td><td style = \"text-align: right;\">28.4</td><td style = \"text-align: right;\">37980720</td><td style = \"text-align: right;\">1</td><td style = \"text-align: right;\">0</td><td style = \"text-align: right;\">0</td><td style = \"text-align: right;\">0</td><td style = \"text-align: right;\">0</td></tr></tbody></table></div>"
      ],
      "text/latex": [
       "\\begin{tabular}{r|ccccccccc}\n",
       "\t& PlayerID & Player & Pos & MP & MinM & PER & X2022\\_23 & C & \\\\\n",
       "\t\\hline\n",
       "\t& String15 & String & String7 & Int64 & Int64 & Float64 & Int64? & Int64 & \\\\\n",
       "\t\\hline\n",
       "\t1 & jokicni01 & Nikola Jokic & C & 1714 & 408 & 31.8 & 33047803 & 1 & $\\dots$ \\\\\n",
       "\t2 & embiijo01 & Joel Embiid & C & 1571 & 360 & 30.6 & 33616770 & 1 & $\\dots$ \\\\\n",
       "\t3 & doncilu01 & Luka Doncic & PG & 1826 & 400 & 30.2 & 37096500 & 0 & $\\dots$ \\\\\n",
       "\t4 & antetgi01 & Giannis Antetokounmpo & PF & 1554 & 376 & 28.4 & 42492492 & 0 & $\\dots$ \\\\\n",
       "\t5 & davisan02 & Anthony Davis & C & 1168 & 280 & 28.4 & 37980720 & 1 & $\\dots$ \\\\\n",
       "\\end{tabular}\n"
      ],
      "text/plain": [
       "\u001b[1m5×12 DataFrame\u001b[0m\n",
       "\u001b[1m Row \u001b[0m│\u001b[1m PlayerID  \u001b[0m\u001b[1m Player                \u001b[0m\u001b[1m Pos     \u001b[0m\u001b[1m MP    \u001b[0m\u001b[1m MinM  \u001b[0m\u001b[1m PER     \u001b[0m\u001b[1m X2022\u001b[0m ⋯\n",
       "     │\u001b[90m String15  \u001b[0m\u001b[90m String                \u001b[0m\u001b[90m String7 \u001b[0m\u001b[90m Int64 \u001b[0m\u001b[90m Int64 \u001b[0m\u001b[90m Float64 \u001b[0m\u001b[90m Int64\u001b[0m ⋯\n",
       "─────┼──────────────────────────────────────────────────────────────────────────\n",
       "   1 │ jokicni01  Nikola Jokic           C         1714    408     31.8  33047 ⋯\n",
       "   2 │ embiijo01  Joel Embiid            C         1571    360     30.6  33616\n",
       "   3 │ doncilu01  Luka Doncic            PG        1826    400     30.2  37096\n",
       "   4 │ antetgi01  Giannis Antetokounmpo  PF        1554    376     28.4  42492\n",
       "   5 │ davisan02  Anthony Davis          C         1168    280     28.4  37980 ⋯\n",
       "\u001b[36m                                                               6 columns omitted\u001b[0m"
      ]
     },
     "execution_count": 4,
     "metadata": {},
     "output_type": "execute_result"
    }
   ],
   "source": [
    "# The main data frame we will deal with keeps these variables. MinM is minimum number of minuts that need to be played to qualify\n",
    "\n",
    "df = data[:, [:PlayerID, :Player, :Pos, :MP, :MinM, :PER, :X2022_23, :C, :SG, :SF, :PG, :PF]]\n",
    "df[1:5,:]"
   ]
  },
  {
   "cell_type": "code",
   "execution_count": 5,
   "id": "0185f871",
   "metadata": {},
   "outputs": [
    {
     "data": {
      "text/plain": [
       "find_players_string (generic function with 1 method)"
      ]
     },
     "execution_count": 5,
     "metadata": {},
     "output_type": "execute_result"
    }
   ],
   "source": [
    "# Functions that will help us create our tables of players that are included in our model\n",
    "\n",
    "function find_players_binary(vector)\n",
    "    playerlist = []\n",
    "    for i in 1:length(vector)\n",
    "        if vector[i] == 1\n",
    "            push!(playerlist, i)\n",
    "        end\n",
    "    end\n",
    "    return playerlist\n",
    "end\n",
    "\n",
    "function find_players_string(include_players)\n",
    "    playerlist = []\n",
    "    for player in include_players\n",
    "        player_index = findfirst(x -> occursin(player, x), df.Player)\n",
    "        push!(playerlist, player_index)\n",
    "    end\n",
    "    return playerlist\n",
    "end"
   ]
  },
  {
   "cell_type": "code",
   "execution_count": 6,
   "id": "3490e759",
   "metadata": {},
   "outputs": [
    {
     "name": "stdout",
     "output_type": "stream",
     "text": [
      "This player is located at index 139.\n"
     ]
    }
   ],
   "source": [
    "# see if a player is located in the df\n",
    "my_player_index = findfirst(x -> occursin(\"Russell Westbrook\", x), df.Player)\n",
    "\n",
    "# print the index\n",
    "println(\"This player is located at index $my_player_index.\")"
   ]
  },
  {
   "cell_type": "code",
   "execution_count": 7,
   "id": "090779d2",
   "metadata": {},
   "outputs": [
    {
     "data": {
      "text/html": [
       "<div><div style = \"float: left;\"><span>1×12 DataFrame</span></div><div style = \"clear: both;\"></div></div><div class = \"data-frame\" style = \"overflow-x: scroll;\"><table class = \"data-frame\" style = \"margin-bottom: 6px;\"><thead><tr class = \"header\"><th class = \"rowNumber\" style = \"font-weight: bold; text-align: right;\">Row</th><th style = \"text-align: left;\">PlayerID</th><th style = \"text-align: left;\">Player</th><th style = \"text-align: left;\">Pos</th><th style = \"text-align: left;\">MP</th><th style = \"text-align: left;\">MinM</th><th style = \"text-align: left;\">PER</th><th style = \"text-align: left;\">X2022_23</th><th style = \"text-align: left;\">C</th><th style = \"text-align: left;\">SG</th><th style = \"text-align: left;\">SF</th><th style = \"text-align: left;\">PG</th><th style = \"text-align: left;\">PF</th></tr><tr class = \"subheader headerLastRow\"><th class = \"rowNumber\" style = \"font-weight: bold; text-align: right;\"></th><th title = \"String15\" style = \"text-align: left;\">String15</th><th title = \"String\" style = \"text-align: left;\">String</th><th title = \"String7\" style = \"text-align: left;\">String7</th><th title = \"Int64\" style = \"text-align: left;\">Int64</th><th title = \"Int64\" style = \"text-align: left;\">Int64</th><th title = \"Float64\" style = \"text-align: left;\">Float64</th><th title = \"Union{Missing, Int64}\" style = \"text-align: left;\">Int64?</th><th title = \"Int64\" style = \"text-align: left;\">Int64</th><th title = \"Int64\" style = \"text-align: left;\">Int64</th><th title = \"Int64\" style = \"text-align: left;\">Int64</th><th title = \"Int64\" style = \"text-align: left;\">Int64</th><th title = \"Int64\" style = \"text-align: left;\">Int64</th></tr></thead><tbody><tr><td class = \"rowNumber\" style = \"font-weight: bold; text-align: right;\">1</td><td style = \"text-align: left;\">westbru01</td><td style = \"text-align: left;\">Russell Westbrook</td><td style = \"text-align: left;\">PG</td><td style = \"text-align: right;\">1491</td><td style = \"text-align: right;\">416</td><td style = \"text-align: right;\">15.5</td><td style = \"text-align: right;\">47063478</td><td style = \"text-align: right;\">0</td><td style = \"text-align: right;\">0</td><td style = \"text-align: right;\">0</td><td style = \"text-align: right;\">1</td><td style = \"text-align: right;\">0</td></tr></tbody></table></div>"
      ],
      "text/latex": [
       "\\begin{tabular}{r|cccccccccc}\n",
       "\t& PlayerID & Player & Pos & MP & MinM & PER & X2022\\_23 & C & SG & \\\\\n",
       "\t\\hline\n",
       "\t& String15 & String & String7 & Int64 & Int64 & Float64 & Int64? & Int64 & Int64 & \\\\\n",
       "\t\\hline\n",
       "\t1 & westbru01 & Russell Westbrook & PG & 1491 & 416 & 15.5 & 47063478 & 0 & 0 & $\\dots$ \\\\\n",
       "\\end{tabular}\n"
      ],
      "text/plain": [
       "\u001b[1m1×12 DataFrame\u001b[0m\n",
       "\u001b[1m Row \u001b[0m│\u001b[1m PlayerID  \u001b[0m\u001b[1m Player            \u001b[0m\u001b[1m Pos     \u001b[0m\u001b[1m MP    \u001b[0m\u001b[1m MinM  \u001b[0m\u001b[1m PER     \u001b[0m\u001b[1m X2022_23 \u001b[0m\u001b[1m\u001b[0m ⋯\n",
       "     │\u001b[90m String15  \u001b[0m\u001b[90m String            \u001b[0m\u001b[90m String7 \u001b[0m\u001b[90m Int64 \u001b[0m\u001b[90m Int64 \u001b[0m\u001b[90m Float64 \u001b[0m\u001b[90m Int64?   \u001b[0m\u001b[90m\u001b[0m ⋯\n",
       "─────┼──────────────────────────────────────────────────────────────────────────\n",
       "   1 │ westbru01  Russell Westbrook  PG        1491    416     15.5  47063478  ⋯\n",
       "\u001b[36m                                                               5 columns omitted\u001b[0m"
      ]
     },
     "execution_count": 7,
     "metadata": {},
     "output_type": "execute_result"
    }
   ],
   "source": [
    "search_player = filter(row -> contains(row.Player, \"Russell Westbrook\"), df)"
   ]
  },
  {
   "cell_type": "markdown",
   "id": "7e7a0682",
   "metadata": {},
   "source": [
    "## Main model"
   ]
  },
  {
   "cell_type": "code",
   "execution_count": 8,
   "id": "1c486eb2",
   "metadata": {},
   "outputs": [
    {
     "data": {
      "text/plain": [
       "134000000"
      ]
     },
     "execution_count": 8,
     "metadata": {},
     "output_type": "execute_result"
    }
   ],
   "source": [
    "# include whatever players you want to this list\n",
    "include_players = []\n",
    "\n",
    "# list of positions\n",
    "positions = [\"C\", \"SG\", \"SF\", \"PG\", \"PF\"]\n",
    "\n",
    "# establish budget\n",
    "budget = 134000000"
   ]
  },
  {
   "cell_type": "code",
   "execution_count": 9,
   "id": "ad9c90c9",
   "metadata": {},
   "outputs": [
    {
     "data": {
      "text/latex": [
       "$$ 31.8 x_{1} + 30.6 x_{2} + 30.2 x_{3} + 28.4 x_{4} + 28.4 x_{5} + 27.3 x_{6} + 26.6 x_{7} + 26.5 x_{8} + 26.1 x_{9} + 25.9 x_{10} + 25.4 x_{11} + 25.3 x_{12} + 24.9 x_{13} + 24.8 x_{14} + 24 x_{15} + 23.7 x_{16} + 23.7 x_{17} + 23 x_{18} + 23 x_{19} + 22.9 x_{20} + 22.7 x_{21} + 22.7 x_{22} + 22.5 x_{23} + 22.5 x_{24} + 22.3 x_{25} + 22 x_{26} + 21.9 x_{27} + 21.8 x_{28} + 21.6 x_{29} + 21.5 x_{30} + 21.5 x_{31} + 21.4 x_{32} + 21.3 x_{33} + 21.2 x_{34} + 21.2 x_{35} + 21.2 x_{36} + 21.2 x_{37} + 21.1 x_{38} + 21 x_{39} + 21 x_{40} + 21 x_{41} + 20.9 x_{42} + 20.9 x_{43} + 20.8 x_{44} + 20.8 x_{45} + 20.7 x_{46} + 20.6 x_{47} + 20.5 x_{48} + 20.5 x_{49} + 20.4 x_{50} + 20.3 x_{51} + 20.2 x_{52} + 20 x_{53} + 19.9 x_{54} + 19.7 x_{55} + 19.7 x_{56} + 19.5 x_{57} + 19.3 x_{58} + 19.3 x_{59} + 19.2 x_{60} + 19.2 x_{61} + 19.2 x_{62} + 19 x_{63} + 18.9 x_{64} + 18.9 x_{65} + 18.7 x_{66} + 18.7 x_{67} + 18.6 x_{68} + 18.6 x_{69} + 18.4 x_{70} + 18.1 x_{71} + 18 x_{72} + 18 x_{73} + 17.8 x_{74} + 17.8 x_{75} + 17.8 x_{76} + 17.7 x_{77} + 17.6 x_{78} + 17.6 x_{79} + 17.6 x_{80} + 17.6 x_{81} + 17.6 x_{82} + 17.5 x_{83} + 17.5 x_{84} + 17.5 x_{85} + 17.5 x_{86} + 17.5 x_{87} + 17.4 x_{88} + 17.3 x_{89} + 17.2 x_{90} + 17.2 x_{91} + 17.1 x_{92} + 17.1 x_{93} + 17.1 x_{94} + 17 x_{95} + 17 x_{96} + 16.9 x_{97} + 16.9 x_{98} + 16.9 x_{99} + 16.8 x_{100} + 16.7 x_{101} + 16.6 x_{102} + 16.6 x_{103} + 16.5 x_{104} + 16.4 x_{105} + 16.4 x_{106} + 16.4 x_{107} + 16.4 x_{108} + 16.4 x_{109} + 16.4 x_{110} + 16.3 x_{111} + 16.3 x_{112} + 16.2 x_{113} + 16.2 x_{114} + 16.2 x_{115} + 16.1 x_{116} + 16.1 x_{117} + 16.1 x_{118} + 16.1 x_{119} + 16 x_{120} + 16 x_{121} + 16 x_{122} + 15.9 x_{123} + 15.9 x_{124} + 15.8 x_{125} + 15.8 x_{126} + 15.7 x_{127} + 15.7 x_{128} + 15.7 x_{129} + 15.7 x_{130} + 15.7 x_{131} + 15.7 x_{132} + 15.6 x_{133} + 15.6 x_{134} + 15.6 x_{135} + 15.6 x_{136} + 15.5 x_{137} + 15.5 x_{138} + 15.5 x_{139} + 15.4 x_{140} + 15.4 x_{141} + 15.4 x_{142} + 15.4 x_{143} + 15.4 x_{144} + 15.3 x_{145} + 15.3 x_{146} + 15.2 x_{147} + 15.2 x_{148} + 15.2 x_{149} + 15.2 x_{150} + 15.2 x_{151} + 15.1 x_{152} + 15.1 x_{153} + 15 x_{154} + 15 x_{155} + 15 x_{156} + 15 x_{157} + 15 x_{158} + 14.9 x_{159} + 14.9 x_{160} + 14.9 x_{161} + 14.8 x_{162} + 14.8 x_{163} + 14.8 x_{164} + 14.8 x_{165} + 14.7 x_{166} + 14.7 x_{167} + 14.7 x_{168} + 14.7 x_{169} + 14.7 x_{170} + 14.7 x_{171} + 14.7 x_{172} + 14.6 x_{173} + 14.6 x_{174} + 14.6 x_{175} + 14.5 x_{176} + 14.4 x_{177} + 14.4 x_{178} + 14.4 x_{179} + 14.4 x_{180} + 14.4 x_{181} + 14.3 x_{182} + 14.3 x_{183} + 14.2 x_{184} + 14.2 x_{185} + 14.2 x_{186} + 14.2 x_{187} + 14.2 x_{188} + 14.1 x_{189} + 14.1 x_{190} + 14.1 x_{191} + 14.1 x_{192} + 14.1 x_{193} + 14.1 x_{194} + 14 x_{195} + 14 x_{196} + 14 x_{197} + 14 x_{198} + 13.9 x_{199} + 13.9 x_{200} + 13.9 x_{201} + 13.9 x_{202} + 13.9 x_{203} + 13.8 x_{204} + 13.8 x_{205} + 13.8 x_{206} + 13.7 x_{207} + 13.7 x_{208} + 13.7 x_{209} + 13.7 x_{210} + 13.6 x_{211} + 13.6 x_{212} + 13.6 x_{213} + 13.6 x_{214} + 13.6 x_{215} + 13.4 x_{216} + 13.4 x_{217} + 13.4 x_{218} + 13.4 x_{219} + 13.3 x_{220} + 13.2 x_{221} + 13.2 x_{222} + 13.2 x_{223} + 13.1 x_{224} + 13.1 x_{225} + 13.1 x_{226} + 13.1 x_{227} + 13.1 x_{228} + 13.1 x_{229} + 13.1 x_{230} + 13 x_{231} + 13 x_{232} + 12.9 x_{233} + 12.9 x_{234} + 12.8 x_{235} + 12.8 x_{236} + 12.8 x_{237} + 12.8 x_{238} + 12.8 x_{239} + 12.7 x_{240} + 12.7 x_{241} + 12.7 x_{242} + 12.7 x_{243} + 12.6 x_{244} + 12.6 x_{245} + 12.5 x_{246} + 12.4 x_{247} + 12.4 x_{248} + 12.4 x_{249} + 12.4 x_{250} + 12.3 x_{251} + 12.3 x_{252} + 12.3 x_{253} + 12.3 x_{254} + 12.3 x_{255} + 12.3 x_{256} + 12.3 x_{257} + 12.2 x_{258} + 12.2 x_{259} + 12.2 x_{260} + 12.2 x_{261} + 12.1 x_{262} + 12 x_{263} + 12 x_{264} + 12 x_{265} + 11.9 x_{266} + 11.9 x_{267} + 11.9 x_{268} + 11.9 x_{269} + 11.8 x_{270} + 11.8 x_{271} + 11.8 x_{272} + 11.8 x_{273} + 11.7 x_{274} + 11.7 x_{275} + 11.7 x_{276} + 11.7 x_{277} + 11.6 x_{278} + 11.6 x_{279} + 11.6 x_{280} + 11.6 x_{281} + 11.6 x_{282} + 11.5 x_{283} + 11.5 x_{284} + 11.5 x_{285} + 11.4 x_{286} + 11.4 x_{287} + 11.4 x_{288} + 11.4 x_{289} + 11.3 x_{290} + 11.3 x_{291} + 11.3 x_{292} + 11.2 x_{293} + 11.2 x_{294} + 11.2 x_{295} + 11.2 x_{296} + 11.2 x_{297} + 11.1 x_{298} + 11.1 x_{299} + 11.1 x_{300} + 11 x_{301} + 11 x_{302} + 11 x_{303} + 11 x_{304} + 11 x_{305} + 10.9 x_{306} + 10.9 x_{307} + 10.8 x_{308} + 10.8 x_{309} + 10.8 x_{310} + 10.8 x_{311} + 10.8 x_{312} + 10.8 x_{313} + 10.8 x_{314} + 10.8 x_{315} + 10.7 x_{316} + 10.7 x_{317} + 10.7 x_{318} + 10.7 x_{319} + 10.7 x_{320} + 10.7 x_{321} + 10.6 x_{322} + 10.6 x_{323} + 10.6 x_{324} + 10.6 x_{325} + 10.5 x_{326} + 10.5 x_{327} + 10.5 x_{328} + 10.5 x_{329} + 10.5 x_{330} + 10.4 x_{331} + 10.4 x_{332} + 10.4 x_{333} + 10.3 x_{334} + 10.3 x_{335} + 10.2 x_{336} + 10.2 x_{337} + 10.2 x_{338} + 10.1 x_{339} + 10.1 x_{340} + 10.1 x_{341} + 10 x_{342} + 10 x_{343} + 10 x_{344} + 9.9 x_{345} + 9.9 x_{346} + 9.9 x_{347} + 9.9 x_{348} + 9.8 x_{349} + 9.7 x_{350} + 9.7 x_{351} + 9.6 x_{352} + 9.6 x_{353} + 9.6 x_{354} + 9.5 x_{355} + 9.5 x_{356} + 9.4 x_{357} + 9.4 x_{358} + 9.4 x_{359} + 9.4 x_{360} + 9.3 x_{361} + 9.3 x_{362} + 9.3 x_{363} + 9.2 x_{364} + 9.2 x_{365} + 9.2 x_{366} + 9.1 x_{367} + 9.1 x_{368} + 9 x_{369} + 9 x_{370} + 8.9 x_{371} + 8.9 x_{372} + 8.9 x_{373} + 8.8 x_{374} + 8.8 x_{375} + 8.8 x_{376} + 8.8 x_{377} + 8.8 x_{378} + 8.7 x_{379} + 8.7 x_{380} + 8.6 x_{381} + 8.6 x_{382} + 8.6 x_{383} + 8.5 x_{384} + 8.4 x_{385} + 8.4 x_{386} + 8.4 x_{387} + 8.3 x_{388} + 8.2 x_{389} + 8.1 x_{390} + 8.1 x_{391} + 7.9 x_{392} + 7.9 x_{393} + 7.9 x_{394} + 7.7 x_{395} + 7.7 x_{396} + 7.6 x_{397} + 7.5 x_{398} + 7.4 x_{399} + 7.4 x_{400} + 7.3 x_{401} + 7.2 x_{402} + 7 x_{403} + 7 x_{404} + 6.8 x_{405} + 6.7 x_{406} + 6.7 x_{407} + 6.5 x_{408} + 6.5 x_{409} + 6.5 x_{410} + 6.5 x_{411} + 6.3 x_{412} + 6.3 x_{413} + 6.3 x_{414} + 6.3 x_{415} + 6.2 x_{416} + 6.2 x_{417} + 6.1 x_{418} + 6.1 x_{419} + 6 x_{420} + 6 x_{421} + 6 x_{422} + 5.9 x_{423} + 5.6 x_{424} + 5.6 x_{425} + 5.4 x_{426} + 5.4 x_{427} + 4.3 x_{428} + 3.6 x_{429} + 2.6 x_{430} + 2.4 x_{431} + 2 x_{432} + 1.2 x_{433} + 1.2 x_{434} - 0.2 x_{435} - 1.4 x_{436} - 3.2 x_{437} - 3.5 x_{438} - 3.5 x_{439} - 5 x_{440} - 10.7 x_{441} $$"
      ],
      "text/plain": [
       "31.8 x[1] + 30.6 x[2] + 30.2 x[3] + 28.4 x[4] + 28.4 x[5] + 27.3 x[6] + 26.6 x[7] + 26.5 x[8] + 26.1 x[9] + 25.9 x[10] + 25.4 x[11] + 25.3 x[12] + 24.9 x[13] + 24.8 x[14] + 24 x[15] + 23.7 x[16] + 23.7 x[17] + 23 x[18] + 23 x[19] + 22.9 x[20] + 22.7 x[21] + 22.7 x[22] + 22.5 x[23] + 22.5 x[24] + 22.3 x[25] + 22 x[26] + 21.9 x[27] + 21.8 x[28] + 21.6 x[29] + 21.5 x[30] + 21.5 x[31] + 21.4 x[32] + 21.3 x[33] + 21.2 x[34] + 21.2 x[35] + 21.2 x[36] + 21.2 x[37] + 21.1 x[38] + 21 x[39] + 21 x[40] + 21 x[41] + 20.9 x[42] + 20.9 x[43] + 20.8 x[44] + 20.8 x[45] + 20.7 x[46] + 20.6 x[47] + 20.5 x[48] + 20.5 x[49] + 20.4 x[50] + 20.3 x[51] + 20.2 x[52] + 20 x[53] + 19.9 x[54] + 19.7 x[55] + 19.7 x[56] + 19.5 x[57] + 19.3 x[58] + 19.3 x[59] + 19.2 x[60] + 19.2 x[61] + 19.2 x[62] + 19 x[63] + 18.9 x[64] + 18.9 x[65] + 18.7 x[66] + 18.7 x[67] + 18.6 x[68] + 18.6 x[69] + 18.4 x[70] + 18.1 x[71] + 18 x[72] + 18 x[73] + 17.8 x[74] + 17.8 x[75] + 17.8 x[76] + 17.7 x[77] + 17.6 x[78] + 17.6 x[79] + 17.6 x[80] + 17.6 x[81] + 17.6 x[82] + 17.5 x[83] + 17.5 x[84] + 17.5 x[85] + 17.5 x[86] + 17.5 x[87] + 17.4 x[88] + 17.3 x[89] + 17.2 x[90] + 17.2 x[91] + 17.1 x[92] + 17.1 x[93] + 17.1 x[94] + 17 x[95] + 17 x[96] + 16.9 x[97] + 16.9 x[98] + 16.9 x[99] + 16.8 x[100] + 16.7 x[101] + 16.6 x[102] + 16.6 x[103] + 16.5 x[104] + 16.4 x[105] + 16.4 x[106] + 16.4 x[107] + 16.4 x[108] + 16.4 x[109] + 16.4 x[110] + 16.3 x[111] + 16.3 x[112] + 16.2 x[113] + 16.2 x[114] + 16.2 x[115] + 16.1 x[116] + 16.1 x[117] + 16.1 x[118] + 16.1 x[119] + 16 x[120] + 16 x[121] + 16 x[122] + 15.9 x[123] + 15.9 x[124] + 15.8 x[125] + 15.8 x[126] + 15.7 x[127] + 15.7 x[128] + 15.7 x[129] + 15.7 x[130] + 15.7 x[131] + 15.7 x[132] + 15.6 x[133] + 15.6 x[134] + 15.6 x[135] + 15.6 x[136] + 15.5 x[137] + 15.5 x[138] + 15.5 x[139] + 15.4 x[140] + 15.4 x[141] + 15.4 x[142] + 15.4 x[143] + 15.4 x[144] + 15.3 x[145] + 15.3 x[146] + 15.2 x[147] + 15.2 x[148] + 15.2 x[149] + 15.2 x[150] + 15.2 x[151] + 15.1 x[152] + 15.1 x[153] + 15 x[154] + 15 x[155] + 15 x[156] + 15 x[157] + 15 x[158] + 14.9 x[159] + 14.9 x[160] + 14.9 x[161] + 14.8 x[162] + 14.8 x[163] + 14.8 x[164] + 14.8 x[165] + 14.7 x[166] + 14.7 x[167] + 14.7 x[168] + 14.7 x[169] + 14.7 x[170] + 14.7 x[171] + 14.7 x[172] + 14.6 x[173] + 14.6 x[174] + 14.6 x[175] + 14.5 x[176] + 14.4 x[177] + 14.4 x[178] + 14.4 x[179] + 14.4 x[180] + 14.4 x[181] + 14.3 x[182] + 14.3 x[183] + 14.2 x[184] + 14.2 x[185] + 14.2 x[186] + 14.2 x[187] + 14.2 x[188] + 14.1 x[189] + 14.1 x[190] + 14.1 x[191] + 14.1 x[192] + 14.1 x[193] + 14.1 x[194] + 14 x[195] + 14 x[196] + 14 x[197] + 14 x[198] + 13.9 x[199] + 13.9 x[200] + 13.9 x[201] + 13.9 x[202] + 13.9 x[203] + 13.8 x[204] + 13.8 x[205] + 13.8 x[206] + 13.7 x[207] + 13.7 x[208] + 13.7 x[209] + 13.7 x[210] + 13.6 x[211] + 13.6 x[212] + 13.6 x[213] + 13.6 x[214] + 13.6 x[215] + 13.4 x[216] + 13.4 x[217] + 13.4 x[218] + 13.4 x[219] + 13.3 x[220] + 13.2 x[221] + 13.2 x[222] + 13.2 x[223] + 13.1 x[224] + 13.1 x[225] + 13.1 x[226] + 13.1 x[227] + 13.1 x[228] + 13.1 x[229] + 13.1 x[230] + 13 x[231] + 13 x[232] + 12.9 x[233] + 12.9 x[234] + 12.8 x[235] + 12.8 x[236] + 12.8 x[237] + 12.8 x[238] + 12.8 x[239] + 12.7 x[240] + 12.7 x[241] + 12.7 x[242] + 12.7 x[243] + 12.6 x[244] + 12.6 x[245] + 12.5 x[246] + 12.4 x[247] + 12.4 x[248] + 12.4 x[249] + 12.4 x[250] + 12.3 x[251] + 12.3 x[252] + 12.3 x[253] + 12.3 x[254] + 12.3 x[255] + 12.3 x[256] + 12.3 x[257] + 12.2 x[258] + 12.2 x[259] + 12.2 x[260] + 12.2 x[261] + 12.1 x[262] + 12 x[263] + 12 x[264] + 12 x[265] + 11.9 x[266] + 11.9 x[267] + 11.9 x[268] + 11.9 x[269] + 11.8 x[270] + 11.8 x[271] + 11.8 x[272] + 11.8 x[273] + 11.7 x[274] + 11.7 x[275] + 11.7 x[276] + 11.7 x[277] + 11.6 x[278] + 11.6 x[279] + 11.6 x[280] + 11.6 x[281] + 11.6 x[282] + 11.5 x[283] + 11.5 x[284] + 11.5 x[285] + 11.4 x[286] + 11.4 x[287] + 11.4 x[288] + 11.4 x[289] + 11.3 x[290] + 11.3 x[291] + 11.3 x[292] + 11.2 x[293] + 11.2 x[294] + 11.2 x[295] + 11.2 x[296] + 11.2 x[297] + 11.1 x[298] + 11.1 x[299] + 11.1 x[300] + 11 x[301] + 11 x[302] + 11 x[303] + 11 x[304] + 11 x[305] + 10.9 x[306] + 10.9 x[307] + 10.8 x[308] + 10.8 x[309] + 10.8 x[310] + 10.8 x[311] + 10.8 x[312] + 10.8 x[313] + 10.8 x[314] + 10.8 x[315] + 10.7 x[316] + 10.7 x[317] + 10.7 x[318] + 10.7 x[319] + 10.7 x[320] + 10.7 x[321] + 10.6 x[322] + 10.6 x[323] + 10.6 x[324] + 10.6 x[325] + 10.5 x[326] + 10.5 x[327] + 10.5 x[328] + 10.5 x[329] + 10.5 x[330] + 10.4 x[331] + 10.4 x[332] + 10.4 x[333] + 10.3 x[334] + 10.3 x[335] + 10.2 x[336] + 10.2 x[337] + 10.2 x[338] + 10.1 x[339] + 10.1 x[340] + 10.1 x[341] + 10 x[342] + 10 x[343] + 10 x[344] + 9.9 x[345] + 9.9 x[346] + 9.9 x[347] + 9.9 x[348] + 9.8 x[349] + 9.7 x[350] + 9.7 x[351] + 9.6 x[352] + 9.6 x[353] + 9.6 x[354] + 9.5 x[355] + 9.5 x[356] + 9.4 x[357] + 9.4 x[358] + 9.4 x[359] + 9.4 x[360] + 9.3 x[361] + 9.3 x[362] + 9.3 x[363] + 9.2 x[364] + 9.2 x[365] + 9.2 x[366] + 9.1 x[367] + 9.1 x[368] + 9 x[369] + 9 x[370] + 8.9 x[371] + 8.9 x[372] + 8.9 x[373] + 8.8 x[374] + 8.8 x[375] + 8.8 x[376] + 8.8 x[377] + 8.8 x[378] + 8.7 x[379] + 8.7 x[380] + 8.6 x[381] + 8.6 x[382] + 8.6 x[383] + 8.5 x[384] + 8.4 x[385] + 8.4 x[386] + 8.4 x[387] + 8.3 x[388] + 8.2 x[389] + 8.1 x[390] + 8.1 x[391] + 7.9 x[392] + 7.9 x[393] + 7.9 x[394] + 7.7 x[395] + 7.7 x[396] + 7.6 x[397] + 7.5 x[398] + 7.4 x[399] + 7.4 x[400] + 7.3 x[401] + 7.2 x[402] + 7 x[403] + 7 x[404] + 6.8 x[405] + 6.7 x[406] + 6.7 x[407] + 6.5 x[408] + 6.5 x[409] + 6.5 x[410] + 6.5 x[411] + 6.3 x[412] + 6.3 x[413] + 6.3 x[414] + 6.3 x[415] + 6.2 x[416] + 6.2 x[417] + 6.1 x[418] + 6.1 x[419] + 6 x[420] + 6 x[421] + 6 x[422] + 5.9 x[423] + 5.6 x[424] + 5.6 x[425] + 5.4 x[426] + 5.4 x[427] + 4.3 x[428] + 3.6 x[429] + 2.6 x[430] + 2.4 x[431] + 2 x[432] + 1.2 x[433] + 1.2 x[434] - 0.2 x[435] - 1.4 x[436] - 3.2 x[437] - 3.5 x[438] - 3.5 x[439] - 5 x[440] - 10.7 x[441]"
      ]
     },
     "execution_count": 9,
     "metadata": {},
     "output_type": "execute_result"
    }
   ],
   "source": [
    "using JuMP, GLPK;\n",
    "\n",
    "model = Model(GLPK.Optimizer)\n",
    "\n",
    "# If you only want to include a subset of players, change n\n",
    "n = nrow(df)\n",
    "\n",
    "# c is the column vector of PER\n",
    "c = df[1:n, 6]\n",
    "\n",
    "# a is the column vector of salaries\n",
    "a = df[1:n, 7]\n",
    "\n",
    "# matrix of positions\n",
    "mat = df[1:n ,8:12]\n",
    "\n",
    "# Minimum minutes that need to be played to qualify to be in the model\n",
    "min_m = df[!,5]\n",
    "\n",
    "# Minutes played for each player\n",
    "mp = df[!,4]\n",
    "\n",
    "@variable(model, x[i=1:n], Bin)\n",
    "\n",
    "# add requirements for players to include\n",
    "for player in include_players\n",
    "    player_index = findfirst(x -> occursin(player, x), df.Player)\n",
    "    @constraint(model, sum(x[player_index]) == 1)\n",
    "end\n",
    "\n",
    "# limiting to no more than 5 per position\n",
    "for p in positions\n",
    "    pos = df[!, p]\n",
    "    @constraint(model, sum(pos[i]*x[i] for i = 1:n) <= 5)\n",
    "end\n",
    "\n",
    "# ensuring that players included have played enough games/minutes\n",
    "for i = 1:n\n",
    "    @constraint(model, mp[i] >= min_m[i]*x[i])\n",
    "end\n",
    "\n",
    "\n",
    "# budget\n",
    "@constraint(model, sum(a[i]*x[i] for i = 1:n) <= budget)\n",
    "\n",
    "# 14 <= number of players <= 15\n",
    "@constraint(model, sum(x[i] for i=1:n) <= 15)\n",
    "@constraint(model, sum(x[i] for i=1:n) >= 14)\n",
    "\n",
    "# Makes sure we have at least 2 players from each position\n",
    "for j = 1:5\n",
    "    @constraint(model, sum(x[i]*mat[i, j] for i=1:n) >= 2)\n",
    "end\n",
    "\n",
    "@objective(model, Max, sum(c[j]*x[j] for j=1:n))"
   ]
  },
  {
   "cell_type": "code",
   "execution_count": 34,
   "id": "6e2a6fe1",
   "metadata": {},
   "outputs": [
    {
     "name": "stdout",
     "output_type": "stream",
     "text": [
      "Objective value: 327.9\n",
      "Average PER: 21.86\n"
     ]
    }
   ],
   "source": [
    "JuMP.optimize!(model)\n",
    "\n",
    "println(\"Objective value: \", JuMP.objective_value(model))\n",
    "println(\"Average PER: \", (JuMP.objective_value(model))/15)"
   ]
  },
  {
   "cell_type": "code",
   "execution_count": 11,
   "id": "81075b5c",
   "metadata": {
    "scrolled": true
   },
   "outputs": [
    {
     "data": {
      "text/html": [
       "<div><div style = \"float: left;\"><span>15×4 DataFrame</span></div><div style = \"clear: both;\"></div></div><div class = \"data-frame\" style = \"overflow-x: scroll;\"><table class = \"data-frame\" style = \"margin-bottom: 6px;\"><thead><tr class = \"header\"><th class = \"rowNumber\" style = \"font-weight: bold; text-align: right;\">Row</th><th style = \"text-align: left;\">Player</th><th style = \"text-align: left;\">Pos</th><th style = \"text-align: left;\">PER</th><th style = \"text-align: left;\">X2022_23</th></tr><tr class = \"subheader headerLastRow\"><th class = \"rowNumber\" style = \"font-weight: bold; text-align: right;\"></th><th title = \"String\" style = \"text-align: left;\">String</th><th title = \"String7\" style = \"text-align: left;\">String7</th><th title = \"Float64\" style = \"text-align: left;\">Float64</th><th title = \"Union{Missing, Int64}\" style = \"text-align: left;\">Int64?</th></tr></thead><tbody><tr><td class = \"rowNumber\" style = \"font-weight: bold; text-align: right;\">1</td><td style = \"text-align: left;\">Nikola Jokic</td><td style = \"text-align: left;\">C</td><td style = \"text-align: right;\">31.8</td><td style = \"text-align: right;\">33047803</td></tr><tr><td class = \"rowNumber\" style = \"font-weight: bold; text-align: right;\">2</td><td style = \"text-align: left;\">Shai Gilgeous-Alexander</td><td style = \"text-align: left;\">PG</td><td style = \"text-align: right;\">27.3</td><td style = \"text-align: right;\">30913750</td></tr><tr><td class = \"rowNumber\" style = \"font-weight: bold; text-align: right;\">3</td><td style = \"text-align: left;\">Zion Williamson</td><td style = \"text-align: left;\">PF</td><td style = \"text-align: right;\">25.3</td><td style = \"text-align: right;\">13534817</td></tr><tr><td class = \"rowNumber\" style = \"font-weight: bold; text-align: right;\">4</td><td style = \"text-align: left;\">Ja Morant</td><td style = \"text-align: left;\">PG</td><td style = \"text-align: right;\">23.7</td><td style = \"text-align: right;\">12119440</td></tr><tr><td class = \"rowNumber\" style = \"font-weight: bold; text-align: right;\">5</td><td style = \"text-align: left;\">Tyrese Haliburton</td><td style = \"text-align: left;\">PG</td><td style = \"text-align: right;\">22.7</td><td style = \"text-align: right;\">4215120</td></tr><tr><td class = \"rowNumber\" style = \"font-weight: bold; text-align: right;\">6</td><td style = \"text-align: left;\">Lauri Markkanen</td><td style = \"text-align: left;\">SF</td><td style = \"text-align: right;\">22.5</td><td style = \"text-align: right;\">16475454</td></tr><tr><td class = \"rowNumber\" style = \"font-weight: bold; text-align: right;\">7</td><td style = \"text-align: left;\">Thomas Bryant</td><td style = \"text-align: left;\">C</td><td style = \"text-align: right;\">21.5</td><td style = \"text-align: right;\">1836090</td></tr><tr><td class = \"rowNumber\" style = \"font-weight: bold; text-align: right;\">8</td><td style = \"text-align: left;\">Andre Drummond</td><td style = \"text-align: left;\">C</td><td style = \"text-align: right;\">21.5</td><td style = \"text-align: right;\">3200000</td></tr><tr><td class = \"rowNumber\" style = \"font-weight: bold; text-align: right;\">9</td><td style = \"text-align: left;\">Willy Hernangomez</td><td style = \"text-align: left;\">C</td><td style = \"text-align: right;\">21.2</td><td style = \"text-align: right;\">2443581</td></tr><tr><td class = \"rowNumber\" style = \"font-weight: bold; text-align: right;\">10</td><td style = \"text-align: left;\">Walker Kessler</td><td style = \"text-align: left;\">C</td><td style = \"text-align: right;\">21.0</td><td style = \"text-align: right;\">2696400</td></tr><tr><td class = \"rowNumber\" style = \"font-weight: bold; text-align: right;\">11</td><td style = \"text-align: left;\">Brandon Clarke</td><td style = \"text-align: left;\">PF</td><td style = \"text-align: right;\">20.4</td><td style = \"text-align: right;\">4343920</td></tr><tr><td class = \"rowNumber\" style = \"font-weight: bold; text-align: right;\">12</td><td style = \"text-align: left;\">Desmond Bane</td><td style = \"text-align: left;\">SG</td><td style = \"text-align: right;\">19.2</td><td style = \"text-align: right;\">2130240</td></tr><tr><td class = \"rowNumber\" style = \"font-weight: bold; text-align: right;\">13</td><td style = \"text-align: left;\">Xavier Tillman Sr.</td><td style = \"text-align: left;\">PF</td><td style = \"text-align: right;\">17.1</td><td style = \"text-align: right;\">1782621</td></tr><tr><td class = \"rowNumber\" style = \"font-weight: bold; text-align: right;\">14</td><td style = \"text-align: left;\">Isaiah Joe</td><td style = \"text-align: left;\">SG</td><td style = \"text-align: right;\">17.0</td><td style = \"text-align: right;\">1836090</td></tr><tr><td class = \"rowNumber\" style = \"font-weight: bold; text-align: right;\">15</td><td style = \"text-align: left;\">Joe Wieskamp</td><td style = \"text-align: left;\">SF</td><td style = \"text-align: right;\">15.7</td><td style = \"text-align: right;\">2175000</td></tr></tbody></table></div>"
      ],
      "text/latex": [
       "\\begin{tabular}{r|cccc}\n",
       "\t& Player & Pos & PER & X2022\\_23\\\\\n",
       "\t\\hline\n",
       "\t& String & String7 & Float64 & Int64?\\\\\n",
       "\t\\hline\n",
       "\t1 & Nikola Jokic & C & 31.8 & 33047803 \\\\\n",
       "\t2 & Shai Gilgeous-Alexander & PG & 27.3 & 30913750 \\\\\n",
       "\t3 & Zion Williamson & PF & 25.3 & 13534817 \\\\\n",
       "\t4 & Ja Morant & PG & 23.7 & 12119440 \\\\\n",
       "\t5 & Tyrese Haliburton & PG & 22.7 & 4215120 \\\\\n",
       "\t6 & Lauri Markkanen & SF & 22.5 & 16475454 \\\\\n",
       "\t7 & Thomas Bryant & C & 21.5 & 1836090 \\\\\n",
       "\t8 & Andre Drummond & C & 21.5 & 3200000 \\\\\n",
       "\t9 & Willy Hernangomez & C & 21.2 & 2443581 \\\\\n",
       "\t10 & Walker Kessler & C & 21.0 & 2696400 \\\\\n",
       "\t11 & Brandon Clarke & PF & 20.4 & 4343920 \\\\\n",
       "\t12 & Desmond Bane & SG & 19.2 & 2130240 \\\\\n",
       "\t13 & Xavier Tillman Sr. & PF & 17.1 & 1782621 \\\\\n",
       "\t14 & Isaiah Joe & SG & 17.0 & 1836090 \\\\\n",
       "\t15 & Joe Wieskamp & SF & 15.7 & 2175000 \\\\\n",
       "\\end{tabular}\n"
      ],
      "text/plain": [
       "\u001b[1m15×4 DataFrame\u001b[0m\n",
       "\u001b[1m Row \u001b[0m│\u001b[1m Player                  \u001b[0m\u001b[1m Pos     \u001b[0m\u001b[1m PER     \u001b[0m\u001b[1m X2022_23 \u001b[0m\n",
       "     │\u001b[90m String                  \u001b[0m\u001b[90m String7 \u001b[0m\u001b[90m Float64 \u001b[0m\u001b[90m Int64?   \u001b[0m\n",
       "─────┼─────────────────────────────────────────────────────\n",
       "   1 │ Nikola Jokic             C           31.8  33047803\n",
       "   2 │ Shai Gilgeous-Alexander  PG          27.3  30913750\n",
       "   3 │ Zion Williamson          PF          25.3  13534817\n",
       "   4 │ Ja Morant                PG          23.7  12119440\n",
       "   5 │ Tyrese Haliburton        PG          22.7   4215120\n",
       "   6 │ Lauri Markkanen          SF          22.5  16475454\n",
       "   7 │ Thomas Bryant            C           21.5   1836090\n",
       "   8 │ Andre Drummond           C           21.5   3200000\n",
       "   9 │ Willy Hernangomez        C           21.2   2443581\n",
       "  10 │ Walker Kessler           C           21.0   2696400\n",
       "  11 │ Brandon Clarke           PF          20.4   4343920\n",
       "  12 │ Desmond Bane             SG          19.2   2130240\n",
       "  13 │ Xavier Tillman Sr.       PF          17.1   1782621\n",
       "  14 │ Isaiah Joe               SG          17.0   1836090\n",
       "  15 │ Joe Wieskamp             SF          15.7   2175000"
      ]
     },
     "execution_count": 11,
     "metadata": {},
     "output_type": "execute_result"
    }
   ],
   "source": [
    "# This gives us our team\n",
    "\n",
    "vector = JuMP.value.(x)\n",
    "guess = df[find_players_binary(vector), [2,3,6,7]]"
   ]
  },
  {
   "cell_type": "code",
   "execution_count": 12,
   "id": "d6b400da",
   "metadata": {},
   "outputs": [
    {
     "data": {
      "text/plain": [
       "132750326"
      ]
     },
     "execution_count": 12,
     "metadata": {},
     "output_type": "execute_result"
    }
   ],
   "source": [
    "total_salary = sum(guess[:, 4]) # The total salary is under the salary cap"
   ]
  },
  {
   "cell_type": "markdown",
   "id": "192afccf",
   "metadata": {},
   "source": [
    "# Clippers Example"
   ]
  },
  {
   "cell_type": "code",
   "execution_count": 13,
   "id": "9ce9e632",
   "metadata": {},
   "outputs": [
    {
     "data": {
      "text/plain": [
       "14-element Vector{String}:\n",
       " \"Nicolas Batum\"\n",
       " \"Brandon Boston Jr.\"\n",
       " \"Amir Coffey\"\n",
       " \"Robert Covington\"\n",
       " \"Paul George\"\n",
       " \"Eric Gordon\"\n",
       " \"Bones Hyland\"\n",
       " \"Kawhi Leonard\"\n",
       " \"Terance Mann\"\n",
       " \"Marcus Morris\"\n",
       " \"Mason Plumlee\"\n",
       " \"Norman Powell\"\n",
       " \"Jason Preston\"\n",
       " \"Russell Westbrook\""
      ]
     },
     "execution_count": 13,
     "metadata": {},
     "output_type": "execute_result"
    }
   ],
   "source": [
    "include_players = [\"Nicolas Batum\", \n",
    "                   \"Brandon Boston Jr.\", \n",
    "                   \"Amir Coffey\", \n",
    "                   \"Robert Covington\", \n",
    "                   \"Paul George\",\n",
    "                   \"Eric Gordon\",\n",
    "                   \"Bones Hyland\",\n",
    "                   \"Kawhi Leonard\",\n",
    "                   \"Terance Mann\",\n",
    "                   \"Marcus Morris\",\n",
    "                   \"Mason Plumlee\",\n",
    "                   \"Norman Powell\",\n",
    "                   \"Jason Preston\",\n",
    "                   \"Russell Westbrook\"]"
   ]
  },
  {
   "cell_type": "code",
   "execution_count": 14,
   "id": "4c281c36",
   "metadata": {},
   "outputs": [
    {
     "data": {
      "text/html": [
       "<div><div style = \"float: left;\"><span>14×4 DataFrame</span></div><div style = \"clear: both;\"></div></div><div class = \"data-frame\" style = \"overflow-x: scroll;\"><table class = \"data-frame\" style = \"margin-bottom: 6px;\"><thead><tr class = \"header\"><th class = \"rowNumber\" style = \"font-weight: bold; text-align: right;\">Row</th><th style = \"text-align: left;\">Player</th><th style = \"text-align: left;\">Pos</th><th style = \"text-align: left;\">PER</th><th style = \"text-align: left;\">X2022_23</th></tr><tr class = \"subheader headerLastRow\"><th class = \"rowNumber\" style = \"font-weight: bold; text-align: right;\"></th><th title = \"String\" style = \"text-align: left;\">String</th><th title = \"String7\" style = \"text-align: left;\">String7</th><th title = \"Float64\" style = \"text-align: left;\">Float64</th><th title = \"Union{Missing, Int64}\" style = \"text-align: left;\">Int64?</th></tr></thead><tbody><tr><td class = \"rowNumber\" style = \"font-weight: bold; text-align: right;\">1</td><td style = \"text-align: left;\">Nicolas Batum</td><td style = \"text-align: left;\">PF</td><td style = \"text-align: right;\">10.8</td><td style = \"text-align: right;\">19700319</td></tr><tr><td class = \"rowNumber\" style = \"font-weight: bold; text-align: right;\">2</td><td style = \"text-align: left;\">Brandon Boston Jr.</td><td style = \"text-align: left;\">SG</td><td style = \"text-align: right;\">13.7</td><td style = \"text-align: right;\">1563518</td></tr><tr><td class = \"rowNumber\" style = \"font-weight: bold; text-align: right;\">3</td><td style = \"text-align: left;\">Amir Coffey</td><td style = \"text-align: left;\">SG</td><td style = \"text-align: right;\">7.6</td><td style = \"text-align: right;\">3395062</td></tr><tr><td class = \"rowNumber\" style = \"font-weight: bold; text-align: right;\">4</td><td style = \"text-align: left;\">Robert Covington</td><td style = \"text-align: left;\">PF</td><td style = \"text-align: right;\">13.1</td><td style = \"text-align: right;\">12307692</td></tr><tr><td class = \"rowNumber\" style = \"font-weight: bold; text-align: right;\">5</td><td style = \"text-align: left;\">Paul George</td><td style = \"text-align: left;\">SG</td><td style = \"text-align: right;\">19.7</td><td style = \"text-align: right;\">42492492</td></tr><tr><td class = \"rowNumber\" style = \"font-weight: bold; text-align: right;\">6</td><td style = \"text-align: left;\">Eric Gordon</td><td style = \"text-align: left;\">SG</td><td style = \"text-align: right;\">11.6</td><td style = \"text-align: right;\">19568360</td></tr><tr><td class = \"rowNumber\" style = \"font-weight: bold; text-align: right;\">7</td><td style = \"text-align: left;\">Bones Hyland</td><td style = \"text-align: left;\">PG</td><td style = \"text-align: right;\">14.6</td><td style = \"text-align: right;\">2201520</td></tr><tr><td class = \"rowNumber\" style = \"font-weight: bold; text-align: right;\">8</td><td style = \"text-align: left;\">Kawhi Leonard</td><td style = \"text-align: left;\">SF</td><td style = \"text-align: right;\">23.7</td><td style = \"text-align: right;\">42492492</td></tr><tr><td class = \"rowNumber\" style = \"font-weight: bold; text-align: right;\">9</td><td style = \"text-align: left;\">Terance Mann</td><td style = \"text-align: left;\">SG</td><td style = \"text-align: right;\">14.1</td><td style = \"text-align: right;\">1930681</td></tr><tr><td class = \"rowNumber\" style = \"font-weight: bold; text-align: right;\">10</td><td style = \"text-align: left;\">Marcus Morris</td><td style = \"text-align: left;\">PF</td><td style = \"text-align: right;\">11.8</td><td style = \"text-align: right;\">16372093</td></tr><tr><td class = \"rowNumber\" style = \"font-weight: bold; text-align: right;\">11</td><td style = \"text-align: left;\">Mason Plumlee</td><td style = \"text-align: left;\">C</td><td style = \"text-align: right;\">20.3</td><td style = \"text-align: right;\">9080417</td></tr><tr><td class = \"rowNumber\" style = \"font-weight: bold; text-align: right;\">12</td><td style = \"text-align: left;\">Norman Powell</td><td style = \"text-align: left;\">SG</td><td style = \"text-align: right;\">18.1</td><td style = \"text-align: right;\">16758621</td></tr><tr><td class = \"rowNumber\" style = \"font-weight: bold; text-align: right;\">13</td><td style = \"text-align: left;\">Jason Preston</td><td style = \"text-align: left;\">PG</td><td style = \"text-align: right;\">10.7</td><td style = \"text-align: right;\">1563518</td></tr><tr><td class = \"rowNumber\" style = \"font-weight: bold; text-align: right;\">14</td><td style = \"text-align: left;\">Russell Westbrook</td><td style = \"text-align: left;\">PG</td><td style = \"text-align: right;\">15.5</td><td style = \"text-align: right;\">47063478</td></tr></tbody></table></div>"
      ],
      "text/latex": [
       "\\begin{tabular}{r|cccc}\n",
       "\t& Player & Pos & PER & X2022\\_23\\\\\n",
       "\t\\hline\n",
       "\t& String & String7 & Float64 & Int64?\\\\\n",
       "\t\\hline\n",
       "\t1 & Nicolas Batum & PF & 10.8 & 19700319 \\\\\n",
       "\t2 & Brandon Boston Jr. & SG & 13.7 & 1563518 \\\\\n",
       "\t3 & Amir Coffey & SG & 7.6 & 3395062 \\\\\n",
       "\t4 & Robert Covington & PF & 13.1 & 12307692 \\\\\n",
       "\t5 & Paul George & SG & 19.7 & 42492492 \\\\\n",
       "\t6 & Eric Gordon & SG & 11.6 & 19568360 \\\\\n",
       "\t7 & Bones Hyland & PG & 14.6 & 2201520 \\\\\n",
       "\t8 & Kawhi Leonard & SF & 23.7 & 42492492 \\\\\n",
       "\t9 & Terance Mann & SG & 14.1 & 1930681 \\\\\n",
       "\t10 & Marcus Morris & PF & 11.8 & 16372093 \\\\\n",
       "\t11 & Mason Plumlee & C & 20.3 & 9080417 \\\\\n",
       "\t12 & Norman Powell & SG & 18.1 & 16758621 \\\\\n",
       "\t13 & Jason Preston & PG & 10.7 & 1563518 \\\\\n",
       "\t14 & Russell Westbrook & PG & 15.5 & 47063478 \\\\\n",
       "\\end{tabular}\n"
      ],
      "text/plain": [
       "\u001b[1m14×4 DataFrame\u001b[0m\n",
       "\u001b[1m Row \u001b[0m│\u001b[1m Player             \u001b[0m\u001b[1m Pos     \u001b[0m\u001b[1m PER     \u001b[0m\u001b[1m X2022_23 \u001b[0m\n",
       "     │\u001b[90m String             \u001b[0m\u001b[90m String7 \u001b[0m\u001b[90m Float64 \u001b[0m\u001b[90m Int64?   \u001b[0m\n",
       "─────┼────────────────────────────────────────────────\n",
       "   1 │ Nicolas Batum       PF          10.8  19700319\n",
       "   2 │ Brandon Boston Jr.  SG          13.7   1563518\n",
       "   3 │ Amir Coffey         SG           7.6   3395062\n",
       "   4 │ Robert Covington    PF          13.1  12307692\n",
       "   5 │ Paul George         SG          19.7  42492492\n",
       "   6 │ Eric Gordon         SG          11.6  19568360\n",
       "   7 │ Bones Hyland        PG          14.6   2201520\n",
       "   8 │ Kawhi Leonard       SF          23.7  42492492\n",
       "   9 │ Terance Mann        SG          14.1   1930681\n",
       "  10 │ Marcus Morris       PF          11.8  16372093\n",
       "  11 │ Mason Plumlee       C           20.3   9080417\n",
       "  12 │ Norman Powell       SG          18.1  16758621\n",
       "  13 │ Jason Preston       PG          10.7   1563518\n",
       "  14 │ Russell Westbrook   PG          15.5  47063478"
      ]
     },
     "execution_count": 14,
     "metadata": {},
     "output_type": "execute_result"
    }
   ],
   "source": [
    "clippers_roster = df[find_players_string(include_players), [2,3,6,7]]"
   ]
  },
  {
   "cell_type": "code",
   "execution_count": 15,
   "id": "82ed64a2",
   "metadata": {},
   "outputs": [
    {
     "data": {
      "text/plain": [
       "236490263"
      ]
     },
     "execution_count": 15,
     "metadata": {},
     "output_type": "execute_result"
    }
   ],
   "source": [
    "sum(clippers_roster[:, 4]) # Check the current salary amount"
   ]
  },
  {
   "cell_type": "code",
   "execution_count": 16,
   "id": "362b0768",
   "metadata": {},
   "outputs": [
    {
     "data": {
      "text/plain": [
       "250000000"
      ]
     },
     "execution_count": 16,
     "metadata": {},
     "output_type": "execute_result"
    }
   ],
   "source": [
    "budget = 250000000"
   ]
  },
  {
   "cell_type": "code",
   "execution_count": 17,
   "id": "f8722b91",
   "metadata": {},
   "outputs": [
    {
     "data": {
      "text/latex": [
       "$$ 31.8 x_{1} + 30.6 x_{2} + 30.2 x_{3} + 28.4 x_{4} + 28.4 x_{5} + 27.3 x_{6} + 26.6 x_{7} + 26.5 x_{8} + 26.1 x_{9} + 25.9 x_{10} + 25.4 x_{11} + 25.3 x_{12} + 24.9 x_{13} + 24.8 x_{14} + 24 x_{15} + 23.7 x_{16} + 23.7 x_{17} + 23 x_{18} + 23 x_{19} + 22.9 x_{20} + 22.7 x_{21} + 22.7 x_{22} + 22.5 x_{23} + 22.5 x_{24} + 22.3 x_{25} + 22 x_{26} + 21.9 x_{27} + 21.8 x_{28} + 21.6 x_{29} + 21.5 x_{30} + 21.5 x_{31} + 21.4 x_{32} + 21.3 x_{33} + 21.2 x_{34} + 21.2 x_{35} + 21.2 x_{36} + 21.2 x_{37} + 21.1 x_{38} + 21 x_{39} + 21 x_{40} + 21 x_{41} + 20.9 x_{42} + 20.9 x_{43} + 20.8 x_{44} + 20.8 x_{45} + 20.7 x_{46} + 20.6 x_{47} + 20.5 x_{48} + 20.5 x_{49} + 20.4 x_{50} + 20.3 x_{51} + 20.2 x_{52} + 20 x_{53} + 19.9 x_{54} + 19.7 x_{55} + 19.7 x_{56} + 19.5 x_{57} + 19.3 x_{58} + 19.3 x_{59} + 19.2 x_{60} + 19.2 x_{61} + 19.2 x_{62} + 19 x_{63} + 18.9 x_{64} + 18.9 x_{65} + 18.7 x_{66} + 18.7 x_{67} + 18.6 x_{68} + 18.6 x_{69} + 18.4 x_{70} + 18.1 x_{71} + 18 x_{72} + 18 x_{73} + 17.8 x_{74} + 17.8 x_{75} + 17.8 x_{76} + 17.7 x_{77} + 17.6 x_{78} + 17.6 x_{79} + 17.6 x_{80} + 17.6 x_{81} + 17.6 x_{82} + 17.5 x_{83} + 17.5 x_{84} + 17.5 x_{85} + 17.5 x_{86} + 17.5 x_{87} + 17.4 x_{88} + 17.3 x_{89} + 17.2 x_{90} + 17.2 x_{91} + 17.1 x_{92} + 17.1 x_{93} + 17.1 x_{94} + 17 x_{95} + 17 x_{96} + 16.9 x_{97} + 16.9 x_{98} + 16.9 x_{99} + 16.8 x_{100} + 16.7 x_{101} + 16.6 x_{102} + 16.6 x_{103} + 16.5 x_{104} + 16.4 x_{105} + 16.4 x_{106} + 16.4 x_{107} + 16.4 x_{108} + 16.4 x_{109} + 16.4 x_{110} + 16.3 x_{111} + 16.3 x_{112} + 16.2 x_{113} + 16.2 x_{114} + 16.2 x_{115} + 16.1 x_{116} + 16.1 x_{117} + 16.1 x_{118} + 16.1 x_{119} + 16 x_{120} + 16 x_{121} + 16 x_{122} + 15.9 x_{123} + 15.9 x_{124} + 15.8 x_{125} + 15.8 x_{126} + 15.7 x_{127} + 15.7 x_{128} + 15.7 x_{129} + 15.7 x_{130} + 15.7 x_{131} + 15.7 x_{132} + 15.6 x_{133} + 15.6 x_{134} + 15.6 x_{135} + 15.6 x_{136} + 15.5 x_{137} + 15.5 x_{138} + 15.5 x_{139} + 15.4 x_{140} + 15.4 x_{141} + 15.4 x_{142} + 15.4 x_{143} + 15.4 x_{144} + 15.3 x_{145} + 15.3 x_{146} + 15.2 x_{147} + 15.2 x_{148} + 15.2 x_{149} + 15.2 x_{150} + 15.2 x_{151} + 15.1 x_{152} + 15.1 x_{153} + 15 x_{154} + 15 x_{155} + 15 x_{156} + 15 x_{157} + 15 x_{158} + 14.9 x_{159} + 14.9 x_{160} + 14.9 x_{161} + 14.8 x_{162} + 14.8 x_{163} + 14.8 x_{164} + 14.8 x_{165} + 14.7 x_{166} + 14.7 x_{167} + 14.7 x_{168} + 14.7 x_{169} + 14.7 x_{170} + 14.7 x_{171} + 14.7 x_{172} + 14.6 x_{173} + 14.6 x_{174} + 14.6 x_{175} + 14.5 x_{176} + 14.4 x_{177} + 14.4 x_{178} + 14.4 x_{179} + 14.4 x_{180} + 14.4 x_{181} + 14.3 x_{182} + 14.3 x_{183} + 14.2 x_{184} + 14.2 x_{185} + 14.2 x_{186} + 14.2 x_{187} + 14.2 x_{188} + 14.1 x_{189} + 14.1 x_{190} + 14.1 x_{191} + 14.1 x_{192} + 14.1 x_{193} + 14.1 x_{194} + 14 x_{195} + 14 x_{196} + 14 x_{197} + 14 x_{198} + 13.9 x_{199} + 13.9 x_{200} + 13.9 x_{201} + 13.9 x_{202} + 13.9 x_{203} + 13.8 x_{204} + 13.8 x_{205} + 13.8 x_{206} + 13.7 x_{207} + 13.7 x_{208} + 13.7 x_{209} + 13.7 x_{210} + 13.6 x_{211} + 13.6 x_{212} + 13.6 x_{213} + 13.6 x_{214} + 13.6 x_{215} + 13.4 x_{216} + 13.4 x_{217} + 13.4 x_{218} + 13.4 x_{219} + 13.3 x_{220} + 13.2 x_{221} + 13.2 x_{222} + 13.2 x_{223} + 13.1 x_{224} + 13.1 x_{225} + 13.1 x_{226} + 13.1 x_{227} + 13.1 x_{228} + 13.1 x_{229} + 13.1 x_{230} + 13 x_{231} + 13 x_{232} + 12.9 x_{233} + 12.9 x_{234} + 12.8 x_{235} + 12.8 x_{236} + 12.8 x_{237} + 12.8 x_{238} + 12.8 x_{239} + 12.7 x_{240} + 12.7 x_{241} + 12.7 x_{242} + 12.7 x_{243} + 12.6 x_{244} + 12.6 x_{245} + 12.5 x_{246} + 12.4 x_{247} + 12.4 x_{248} + 12.4 x_{249} + 12.4 x_{250} + 12.3 x_{251} + 12.3 x_{252} + 12.3 x_{253} + 12.3 x_{254} + 12.3 x_{255} + 12.3 x_{256} + 12.3 x_{257} + 12.2 x_{258} + 12.2 x_{259} + 12.2 x_{260} + 12.2 x_{261} + 12.1 x_{262} + 12 x_{263} + 12 x_{264} + 12 x_{265} + 11.9 x_{266} + 11.9 x_{267} + 11.9 x_{268} + 11.9 x_{269} + 11.8 x_{270} + 11.8 x_{271} + 11.8 x_{272} + 11.8 x_{273} + 11.7 x_{274} + 11.7 x_{275} + 11.7 x_{276} + 11.7 x_{277} + 11.6 x_{278} + 11.6 x_{279} + 11.6 x_{280} + 11.6 x_{281} + 11.6 x_{282} + 11.5 x_{283} + 11.5 x_{284} + 11.5 x_{285} + 11.4 x_{286} + 11.4 x_{287} + 11.4 x_{288} + 11.4 x_{289} + 11.3 x_{290} + 11.3 x_{291} + 11.3 x_{292} + 11.2 x_{293} + 11.2 x_{294} + 11.2 x_{295} + 11.2 x_{296} + 11.2 x_{297} + 11.1 x_{298} + 11.1 x_{299} + 11.1 x_{300} + 11 x_{301} + 11 x_{302} + 11 x_{303} + 11 x_{304} + 11 x_{305} + 10.9 x_{306} + 10.9 x_{307} + 10.8 x_{308} + 10.8 x_{309} + 10.8 x_{310} + 10.8 x_{311} + 10.8 x_{312} + 10.8 x_{313} + 10.8 x_{314} + 10.8 x_{315} + 10.7 x_{316} + 10.7 x_{317} + 10.7 x_{318} + 10.7 x_{319} + 10.7 x_{320} + 10.7 x_{321} + 10.6 x_{322} + 10.6 x_{323} + 10.6 x_{324} + 10.6 x_{325} + 10.5 x_{326} + 10.5 x_{327} + 10.5 x_{328} + 10.5 x_{329} + 10.5 x_{330} + 10.4 x_{331} + 10.4 x_{332} + 10.4 x_{333} + 10.3 x_{334} + 10.3 x_{335} + 10.2 x_{336} + 10.2 x_{337} + 10.2 x_{338} + 10.1 x_{339} + 10.1 x_{340} + 10.1 x_{341} + 10 x_{342} + 10 x_{343} + 10 x_{344} + 9.9 x_{345} + 9.9 x_{346} + 9.9 x_{347} + 9.9 x_{348} + 9.8 x_{349} + 9.7 x_{350} + 9.7 x_{351} + 9.6 x_{352} + 9.6 x_{353} + 9.6 x_{354} + 9.5 x_{355} + 9.5 x_{356} + 9.4 x_{357} + 9.4 x_{358} + 9.4 x_{359} + 9.4 x_{360} + 9.3 x_{361} + 9.3 x_{362} + 9.3 x_{363} + 9.2 x_{364} + 9.2 x_{365} + 9.2 x_{366} + 9.1 x_{367} + 9.1 x_{368} + 9 x_{369} + 9 x_{370} + 8.9 x_{371} + 8.9 x_{372} + 8.9 x_{373} + 8.8 x_{374} + 8.8 x_{375} + 8.8 x_{376} + 8.8 x_{377} + 8.8 x_{378} + 8.7 x_{379} + 8.7 x_{380} + 8.6 x_{381} + 8.6 x_{382} + 8.6 x_{383} + 8.5 x_{384} + 8.4 x_{385} + 8.4 x_{386} + 8.4 x_{387} + 8.3 x_{388} + 8.2 x_{389} + 8.1 x_{390} + 8.1 x_{391} + 7.9 x_{392} + 7.9 x_{393} + 7.9 x_{394} + 7.7 x_{395} + 7.7 x_{396} + 7.6 x_{397} + 7.5 x_{398} + 7.4 x_{399} + 7.4 x_{400} + 7.3 x_{401} + 7.2 x_{402} + 7 x_{403} + 7 x_{404} + 6.8 x_{405} + 6.7 x_{406} + 6.7 x_{407} + 6.5 x_{408} + 6.5 x_{409} + 6.5 x_{410} + 6.5 x_{411} + 6.3 x_{412} + 6.3 x_{413} + 6.3 x_{414} + 6.3 x_{415} + 6.2 x_{416} + 6.2 x_{417} + 6.1 x_{418} + 6.1 x_{419} + 6 x_{420} + 6 x_{421} + 6 x_{422} + 5.9 x_{423} + 5.6 x_{424} + 5.6 x_{425} + 5.4 x_{426} + 5.4 x_{427} + 4.3 x_{428} + 3.6 x_{429} + 2.6 x_{430} + 2.4 x_{431} + 2 x_{432} + 1.2 x_{433} + 1.2 x_{434} - 0.2 x_{435} - 1.4 x_{436} - 3.2 x_{437} - 3.5 x_{438} - 3.5 x_{439} - 5 x_{440} - 10.7 x_{441} $$"
      ],
      "text/plain": [
       "31.8 x[1] + 30.6 x[2] + 30.2 x[3] + 28.4 x[4] + 28.4 x[5] + 27.3 x[6] + 26.6 x[7] + 26.5 x[8] + 26.1 x[9] + 25.9 x[10] + 25.4 x[11] + 25.3 x[12] + 24.9 x[13] + 24.8 x[14] + 24 x[15] + 23.7 x[16] + 23.7 x[17] + 23 x[18] + 23 x[19] + 22.9 x[20] + 22.7 x[21] + 22.7 x[22] + 22.5 x[23] + 22.5 x[24] + 22.3 x[25] + 22 x[26] + 21.9 x[27] + 21.8 x[28] + 21.6 x[29] + 21.5 x[30] + 21.5 x[31] + 21.4 x[32] + 21.3 x[33] + 21.2 x[34] + 21.2 x[35] + 21.2 x[36] + 21.2 x[37] + 21.1 x[38] + 21 x[39] + 21 x[40] + 21 x[41] + 20.9 x[42] + 20.9 x[43] + 20.8 x[44] + 20.8 x[45] + 20.7 x[46] + 20.6 x[47] + 20.5 x[48] + 20.5 x[49] + 20.4 x[50] + 20.3 x[51] + 20.2 x[52] + 20 x[53] + 19.9 x[54] + 19.7 x[55] + 19.7 x[56] + 19.5 x[57] + 19.3 x[58] + 19.3 x[59] + 19.2 x[60] + 19.2 x[61] + 19.2 x[62] + 19 x[63] + 18.9 x[64] + 18.9 x[65] + 18.7 x[66] + 18.7 x[67] + 18.6 x[68] + 18.6 x[69] + 18.4 x[70] + 18.1 x[71] + 18 x[72] + 18 x[73] + 17.8 x[74] + 17.8 x[75] + 17.8 x[76] + 17.7 x[77] + 17.6 x[78] + 17.6 x[79] + 17.6 x[80] + 17.6 x[81] + 17.6 x[82] + 17.5 x[83] + 17.5 x[84] + 17.5 x[85] + 17.5 x[86] + 17.5 x[87] + 17.4 x[88] + 17.3 x[89] + 17.2 x[90] + 17.2 x[91] + 17.1 x[92] + 17.1 x[93] + 17.1 x[94] + 17 x[95] + 17 x[96] + 16.9 x[97] + 16.9 x[98] + 16.9 x[99] + 16.8 x[100] + 16.7 x[101] + 16.6 x[102] + 16.6 x[103] + 16.5 x[104] + 16.4 x[105] + 16.4 x[106] + 16.4 x[107] + 16.4 x[108] + 16.4 x[109] + 16.4 x[110] + 16.3 x[111] + 16.3 x[112] + 16.2 x[113] + 16.2 x[114] + 16.2 x[115] + 16.1 x[116] + 16.1 x[117] + 16.1 x[118] + 16.1 x[119] + 16 x[120] + 16 x[121] + 16 x[122] + 15.9 x[123] + 15.9 x[124] + 15.8 x[125] + 15.8 x[126] + 15.7 x[127] + 15.7 x[128] + 15.7 x[129] + 15.7 x[130] + 15.7 x[131] + 15.7 x[132] + 15.6 x[133] + 15.6 x[134] + 15.6 x[135] + 15.6 x[136] + 15.5 x[137] + 15.5 x[138] + 15.5 x[139] + 15.4 x[140] + 15.4 x[141] + 15.4 x[142] + 15.4 x[143] + 15.4 x[144] + 15.3 x[145] + 15.3 x[146] + 15.2 x[147] + 15.2 x[148] + 15.2 x[149] + 15.2 x[150] + 15.2 x[151] + 15.1 x[152] + 15.1 x[153] + 15 x[154] + 15 x[155] + 15 x[156] + 15 x[157] + 15 x[158] + 14.9 x[159] + 14.9 x[160] + 14.9 x[161] + 14.8 x[162] + 14.8 x[163] + 14.8 x[164] + 14.8 x[165] + 14.7 x[166] + 14.7 x[167] + 14.7 x[168] + 14.7 x[169] + 14.7 x[170] + 14.7 x[171] + 14.7 x[172] + 14.6 x[173] + 14.6 x[174] + 14.6 x[175] + 14.5 x[176] + 14.4 x[177] + 14.4 x[178] + 14.4 x[179] + 14.4 x[180] + 14.4 x[181] + 14.3 x[182] + 14.3 x[183] + 14.2 x[184] + 14.2 x[185] + 14.2 x[186] + 14.2 x[187] + 14.2 x[188] + 14.1 x[189] + 14.1 x[190] + 14.1 x[191] + 14.1 x[192] + 14.1 x[193] + 14.1 x[194] + 14 x[195] + 14 x[196] + 14 x[197] + 14 x[198] + 13.9 x[199] + 13.9 x[200] + 13.9 x[201] + 13.9 x[202] + 13.9 x[203] + 13.8 x[204] + 13.8 x[205] + 13.8 x[206] + 13.7 x[207] + 13.7 x[208] + 13.7 x[209] + 13.7 x[210] + 13.6 x[211] + 13.6 x[212] + 13.6 x[213] + 13.6 x[214] + 13.6 x[215] + 13.4 x[216] + 13.4 x[217] + 13.4 x[218] + 13.4 x[219] + 13.3 x[220] + 13.2 x[221] + 13.2 x[222] + 13.2 x[223] + 13.1 x[224] + 13.1 x[225] + 13.1 x[226] + 13.1 x[227] + 13.1 x[228] + 13.1 x[229] + 13.1 x[230] + 13 x[231] + 13 x[232] + 12.9 x[233] + 12.9 x[234] + 12.8 x[235] + 12.8 x[236] + 12.8 x[237] + 12.8 x[238] + 12.8 x[239] + 12.7 x[240] + 12.7 x[241] + 12.7 x[242] + 12.7 x[243] + 12.6 x[244] + 12.6 x[245] + 12.5 x[246] + 12.4 x[247] + 12.4 x[248] + 12.4 x[249] + 12.4 x[250] + 12.3 x[251] + 12.3 x[252] + 12.3 x[253] + 12.3 x[254] + 12.3 x[255] + 12.3 x[256] + 12.3 x[257] + 12.2 x[258] + 12.2 x[259] + 12.2 x[260] + 12.2 x[261] + 12.1 x[262] + 12 x[263] + 12 x[264] + 12 x[265] + 11.9 x[266] + 11.9 x[267] + 11.9 x[268] + 11.9 x[269] + 11.8 x[270] + 11.8 x[271] + 11.8 x[272] + 11.8 x[273] + 11.7 x[274] + 11.7 x[275] + 11.7 x[276] + 11.7 x[277] + 11.6 x[278] + 11.6 x[279] + 11.6 x[280] + 11.6 x[281] + 11.6 x[282] + 11.5 x[283] + 11.5 x[284] + 11.5 x[285] + 11.4 x[286] + 11.4 x[287] + 11.4 x[288] + 11.4 x[289] + 11.3 x[290] + 11.3 x[291] + 11.3 x[292] + 11.2 x[293] + 11.2 x[294] + 11.2 x[295] + 11.2 x[296] + 11.2 x[297] + 11.1 x[298] + 11.1 x[299] + 11.1 x[300] + 11 x[301] + 11 x[302] + 11 x[303] + 11 x[304] + 11 x[305] + 10.9 x[306] + 10.9 x[307] + 10.8 x[308] + 10.8 x[309] + 10.8 x[310] + 10.8 x[311] + 10.8 x[312] + 10.8 x[313] + 10.8 x[314] + 10.8 x[315] + 10.7 x[316] + 10.7 x[317] + 10.7 x[318] + 10.7 x[319] + 10.7 x[320] + 10.7 x[321] + 10.6 x[322] + 10.6 x[323] + 10.6 x[324] + 10.6 x[325] + 10.5 x[326] + 10.5 x[327] + 10.5 x[328] + 10.5 x[329] + 10.5 x[330] + 10.4 x[331] + 10.4 x[332] + 10.4 x[333] + 10.3 x[334] + 10.3 x[335] + 10.2 x[336] + 10.2 x[337] + 10.2 x[338] + 10.1 x[339] + 10.1 x[340] + 10.1 x[341] + 10 x[342] + 10 x[343] + 10 x[344] + 9.9 x[345] + 9.9 x[346] + 9.9 x[347] + 9.9 x[348] + 9.8 x[349] + 9.7 x[350] + 9.7 x[351] + 9.6 x[352] + 9.6 x[353] + 9.6 x[354] + 9.5 x[355] + 9.5 x[356] + 9.4 x[357] + 9.4 x[358] + 9.4 x[359] + 9.4 x[360] + 9.3 x[361] + 9.3 x[362] + 9.3 x[363] + 9.2 x[364] + 9.2 x[365] + 9.2 x[366] + 9.1 x[367] + 9.1 x[368] + 9 x[369] + 9 x[370] + 8.9 x[371] + 8.9 x[372] + 8.9 x[373] + 8.8 x[374] + 8.8 x[375] + 8.8 x[376] + 8.8 x[377] + 8.8 x[378] + 8.7 x[379] + 8.7 x[380] + 8.6 x[381] + 8.6 x[382] + 8.6 x[383] + 8.5 x[384] + 8.4 x[385] + 8.4 x[386] + 8.4 x[387] + 8.3 x[388] + 8.2 x[389] + 8.1 x[390] + 8.1 x[391] + 7.9 x[392] + 7.9 x[393] + 7.9 x[394] + 7.7 x[395] + 7.7 x[396] + 7.6 x[397] + 7.5 x[398] + 7.4 x[399] + 7.4 x[400] + 7.3 x[401] + 7.2 x[402] + 7 x[403] + 7 x[404] + 6.8 x[405] + 6.7 x[406] + 6.7 x[407] + 6.5 x[408] + 6.5 x[409] + 6.5 x[410] + 6.5 x[411] + 6.3 x[412] + 6.3 x[413] + 6.3 x[414] + 6.3 x[415] + 6.2 x[416] + 6.2 x[417] + 6.1 x[418] + 6.1 x[419] + 6 x[420] + 6 x[421] + 6 x[422] + 5.9 x[423] + 5.6 x[424] + 5.6 x[425] + 5.4 x[426] + 5.4 x[427] + 4.3 x[428] + 3.6 x[429] + 2.6 x[430] + 2.4 x[431] + 2 x[432] + 1.2 x[433] + 1.2 x[434] - 0.2 x[435] - 1.4 x[436] - 3.2 x[437] - 3.5 x[438] - 3.5 x[439] - 5 x[440] - 10.7 x[441]"
      ]
     },
     "execution_count": 17,
     "metadata": {},
     "output_type": "execute_result"
    }
   ],
   "source": [
    "clippers = Model(GLPK.Optimizer)\n",
    "\n",
    "# Below variables are the same as above \n",
    "n = nrow(df)\n",
    "c = df[1:n, 6]\n",
    "a = df[1:n, 7]\n",
    "mat = df[1:n ,8:12]\n",
    "\n",
    "min_m = df[!,5]\n",
    "mp = df[!,4]\n",
    "\n",
    "@variable(clippers, x[i=1:n], Bin)\n",
    "\n",
    "# add requirements for players to include\n",
    "for player in include_players\n",
    "    player_index = findfirst(x -> occursin(player, x), df.Player)\n",
    "    @constraint(clippers, sum(x[player_index]) == 1)\n",
    "end\n",
    "\n",
    "# budget\n",
    "@constraint(clippers, sum(a[i]*x[i] for i = 1:n) <= budget)\n",
    "\n",
    "# 14 <= number of players <= 15\n",
    "@constraint(clippers, sum(x[i] for i=1:n) <= 15)\n",
    "@constraint(clippers, sum(x[i] for i=1:n) >= 14)\n",
    "\n",
    "\n",
    "# adjusting number of players per position\n",
    "for p in positions\n",
    "    pos = df[!, p]\n",
    "    @constraint(clippers, sum(pos[i]*x[i] for i = 1:n) <= 6)\n",
    "    @constraint(clippers, sum(pos[i]*x[i] for i = 1:n) >= 0)\n",
    "end\n",
    "\n",
    "for i = 1:n\n",
    "    @constraint(clippers, mp[i] >= min_m[i]*x[i])\n",
    "end\n",
    "\n",
    "@objective(clippers, Max, sum(c[j]*x[j] for j=1:n))"
   ]
  },
  {
   "cell_type": "code",
   "execution_count": 18,
   "id": "2be0f2bd",
   "metadata": {},
   "outputs": [
    {
     "name": "stdout",
     "output_type": "stream",
     "text": [
      "Objective value: 228.99999999999997\n",
      "Average PER:15.266666666666664\n"
     ]
    }
   ],
   "source": [
    "JuMP.optimize!(clippers)\n",
    "\n",
    "println(\"Objective value: \", JuMP.objective_value(clippers))\n",
    "\n",
    "println(\"Average PER:\", (JuMP.objective_value(clippers))/15)"
   ]
  },
  {
   "cell_type": "code",
   "execution_count": 19,
   "id": "88df0c45",
   "metadata": {},
   "outputs": [
    {
     "data": {
      "text/html": [
       "<div><div style = \"float: left;\"><span>15×4 DataFrame</span></div><div style = \"clear: both;\"></div></div><div class = \"data-frame\" style = \"overflow-x: scroll;\"><table class = \"data-frame\" style = \"margin-bottom: 6px;\"><thead><tr class = \"header\"><th class = \"rowNumber\" style = \"font-weight: bold; text-align: right;\">Row</th><th style = \"text-align: left;\">Player</th><th style = \"text-align: left;\">Pos</th><th style = \"text-align: left;\">PER</th><th style = \"text-align: left;\">X2022_23</th></tr><tr class = \"subheader headerLastRow\"><th class = \"rowNumber\" style = \"font-weight: bold; text-align: right;\"></th><th title = \"String\" style = \"text-align: left;\">String</th><th title = \"String7\" style = \"text-align: left;\">String7</th><th title = \"Float64\" style = \"text-align: left;\">Float64</th><th title = \"Union{Missing, Int64}\" style = \"text-align: left;\">Int64?</th></tr></thead><tbody><tr><td class = \"rowNumber\" style = \"font-weight: bold; text-align: right;\">1</td><td style = \"text-align: left;\">Kawhi Leonard</td><td style = \"text-align: left;\">SF</td><td style = \"text-align: right;\">23.7</td><td style = \"text-align: right;\">42492492</td></tr><tr><td class = \"rowNumber\" style = \"font-weight: bold; text-align: right;\">2</td><td style = \"text-align: left;\">Ja Morant</td><td style = \"text-align: left;\">PG</td><td style = \"text-align: right;\">23.7</td><td style = \"text-align: right;\">12119440</td></tr><tr><td class = \"rowNumber\" style = \"font-weight: bold; text-align: right;\">3</td><td style = \"text-align: left;\">Mason Plumlee</td><td style = \"text-align: left;\">C</td><td style = \"text-align: right;\">20.3</td><td style = \"text-align: right;\">9080417</td></tr><tr><td class = \"rowNumber\" style = \"font-weight: bold; text-align: right;\">4</td><td style = \"text-align: left;\">Paul George</td><td style = \"text-align: left;\">SG</td><td style = \"text-align: right;\">19.7</td><td style = \"text-align: right;\">42492492</td></tr><tr><td class = \"rowNumber\" style = \"font-weight: bold; text-align: right;\">5</td><td style = \"text-align: left;\">Norman Powell</td><td style = \"text-align: left;\">SG</td><td style = \"text-align: right;\">18.1</td><td style = \"text-align: right;\">16758621</td></tr><tr><td class = \"rowNumber\" style = \"font-weight: bold; text-align: right;\">6</td><td style = \"text-align: left;\">Russell Westbrook</td><td style = \"text-align: left;\">PG</td><td style = \"text-align: right;\">15.5</td><td style = \"text-align: right;\">47063478</td></tr><tr><td class = \"rowNumber\" style = \"font-weight: bold; text-align: right;\">7</td><td style = \"text-align: left;\">Bones Hyland</td><td style = \"text-align: left;\">PG</td><td style = \"text-align: right;\">14.6</td><td style = \"text-align: right;\">2201520</td></tr><tr><td class = \"rowNumber\" style = \"font-weight: bold; text-align: right;\">8</td><td style = \"text-align: left;\">Terance Mann</td><td style = \"text-align: left;\">SG</td><td style = \"text-align: right;\">14.1</td><td style = \"text-align: right;\">1930681</td></tr><tr><td class = \"rowNumber\" style = \"font-weight: bold; text-align: right;\">9</td><td style = \"text-align: left;\">Brandon Boston Jr.</td><td style = \"text-align: left;\">SG</td><td style = \"text-align: right;\">13.7</td><td style = \"text-align: right;\">1563518</td></tr><tr><td class = \"rowNumber\" style = \"font-weight: bold; text-align: right;\">10</td><td style = \"text-align: left;\">Robert Covington</td><td style = \"text-align: left;\">PF</td><td style = \"text-align: right;\">13.1</td><td style = \"text-align: right;\">12307692</td></tr><tr><td class = \"rowNumber\" style = \"font-weight: bold; text-align: right;\">11</td><td style = \"text-align: left;\">Marcus Morris</td><td style = \"text-align: left;\">PF</td><td style = \"text-align: right;\">11.8</td><td style = \"text-align: right;\">16372093</td></tr><tr><td class = \"rowNumber\" style = \"font-weight: bold; text-align: right;\">12</td><td style = \"text-align: left;\">Eric Gordon</td><td style = \"text-align: left;\">SG</td><td style = \"text-align: right;\">11.6</td><td style = \"text-align: right;\">19568360</td></tr><tr><td class = \"rowNumber\" style = \"font-weight: bold; text-align: right;\">13</td><td style = \"text-align: left;\">Nicolas Batum</td><td style = \"text-align: left;\">PF</td><td style = \"text-align: right;\">10.8</td><td style = \"text-align: right;\">19700319</td></tr><tr><td class = \"rowNumber\" style = \"font-weight: bold; text-align: right;\">14</td><td style = \"text-align: left;\">Jason Preston</td><td style = \"text-align: left;\">PG</td><td style = \"text-align: right;\">10.7</td><td style = \"text-align: right;\">1563518</td></tr><tr><td class = \"rowNumber\" style = \"font-weight: bold; text-align: right;\">15</td><td style = \"text-align: left;\">Amir Coffey</td><td style = \"text-align: left;\">SG</td><td style = \"text-align: right;\">7.6</td><td style = \"text-align: right;\">3395062</td></tr></tbody></table></div>"
      ],
      "text/latex": [
       "\\begin{tabular}{r|cccc}\n",
       "\t& Player & Pos & PER & X2022\\_23\\\\\n",
       "\t\\hline\n",
       "\t& String & String7 & Float64 & Int64?\\\\\n",
       "\t\\hline\n",
       "\t1 & Kawhi Leonard & SF & 23.7 & 42492492 \\\\\n",
       "\t2 & Ja Morant & PG & 23.7 & 12119440 \\\\\n",
       "\t3 & Mason Plumlee & C & 20.3 & 9080417 \\\\\n",
       "\t4 & Paul George & SG & 19.7 & 42492492 \\\\\n",
       "\t5 & Norman Powell & SG & 18.1 & 16758621 \\\\\n",
       "\t6 & Russell Westbrook & PG & 15.5 & 47063478 \\\\\n",
       "\t7 & Bones Hyland & PG & 14.6 & 2201520 \\\\\n",
       "\t8 & Terance Mann & SG & 14.1 & 1930681 \\\\\n",
       "\t9 & Brandon Boston Jr. & SG & 13.7 & 1563518 \\\\\n",
       "\t10 & Robert Covington & PF & 13.1 & 12307692 \\\\\n",
       "\t11 & Marcus Morris & PF & 11.8 & 16372093 \\\\\n",
       "\t12 & Eric Gordon & SG & 11.6 & 19568360 \\\\\n",
       "\t13 & Nicolas Batum & PF & 10.8 & 19700319 \\\\\n",
       "\t14 & Jason Preston & PG & 10.7 & 1563518 \\\\\n",
       "\t15 & Amir Coffey & SG & 7.6 & 3395062 \\\\\n",
       "\\end{tabular}\n"
      ],
      "text/plain": [
       "\u001b[1m15×4 DataFrame\u001b[0m\n",
       "\u001b[1m Row \u001b[0m│\u001b[1m Player             \u001b[0m\u001b[1m Pos     \u001b[0m\u001b[1m PER     \u001b[0m\u001b[1m X2022_23 \u001b[0m\n",
       "     │\u001b[90m String             \u001b[0m\u001b[90m String7 \u001b[0m\u001b[90m Float64 \u001b[0m\u001b[90m Int64?   \u001b[0m\n",
       "─────┼────────────────────────────────────────────────\n",
       "   1 │ Kawhi Leonard       SF          23.7  42492492\n",
       "   2 │ Ja Morant           PG          23.7  12119440\n",
       "   3 │ Mason Plumlee       C           20.3   9080417\n",
       "   4 │ Paul George         SG          19.7  42492492\n",
       "   5 │ Norman Powell       SG          18.1  16758621\n",
       "   6 │ Russell Westbrook   PG          15.5  47063478\n",
       "   7 │ Bones Hyland        PG          14.6   2201520\n",
       "   8 │ Terance Mann        SG          14.1   1930681\n",
       "   9 │ Brandon Boston Jr.  SG          13.7   1563518\n",
       "  10 │ Robert Covington    PF          13.1  12307692\n",
       "  11 │ Marcus Morris       PF          11.8  16372093\n",
       "  12 │ Eric Gordon         SG          11.6  19568360\n",
       "  13 │ Nicolas Batum       PF          10.8  19700319\n",
       "  14 │ Jason Preston       PG          10.7   1563518\n",
       "  15 │ Amir Coffey         SG           7.6   3395062"
      ]
     },
     "execution_count": 19,
     "metadata": {},
     "output_type": "execute_result"
    }
   ],
   "source": [
    "# Here is our team. Note that Ja Morant is the player that was added\n",
    "\n",
    "vector = JuMP.value.(x)\n",
    "guess = df[find_players_binary(vector), [2,3,6,7]]"
   ]
  },
  {
   "cell_type": "code",
   "execution_count": 20,
   "id": "286a190a",
   "metadata": {},
   "outputs": [
    {
     "data": {
      "text/plain": [
       "248609703"
      ]
     },
     "execution_count": 20,
     "metadata": {},
     "output_type": "execute_result"
    }
   ],
   "source": [
    "sum(guess[:,4]) #Budget works"
   ]
  },
  {
   "cell_type": "markdown",
   "id": "a7e860bd",
   "metadata": {},
   "source": [
    "# Suns Example"
   ]
  },
  {
   "cell_type": "code",
   "execution_count": 21,
   "id": "dee0403e",
   "metadata": {},
   "outputs": [
    {
     "data": {
      "text/plain": [
       "3-element Vector{String}:\n",
       " \"Devin Booker\"\n",
       " \"Kevin Durant\"\n",
       " \"Chris Paul\""
      ]
     },
     "execution_count": 21,
     "metadata": {},
     "output_type": "execute_result"
    }
   ],
   "source": [
    "include_players = [\"Devin Booker\", \n",
    "                   \"Kevin Durant\", \n",
    "                   \"Chris Paul\"]"
   ]
  },
  {
   "cell_type": "code",
   "execution_count": 22,
   "id": "b6169c06",
   "metadata": {},
   "outputs": [
    {
     "data": {
      "text/html": [
       "<div><div style = \"float: left;\"><span>3×4 DataFrame</span></div><div style = \"clear: both;\"></div></div><div class = \"data-frame\" style = \"overflow-x: scroll;\"><table class = \"data-frame\" style = \"margin-bottom: 6px;\"><thead><tr class = \"header\"><th class = \"rowNumber\" style = \"font-weight: bold; text-align: right;\">Row</th><th style = \"text-align: left;\">Player</th><th style = \"text-align: left;\">Pos</th><th style = \"text-align: left;\">PER</th><th style = \"text-align: left;\">X2022_23</th></tr><tr class = \"subheader headerLastRow\"><th class = \"rowNumber\" style = \"font-weight: bold; text-align: right;\"></th><th title = \"String\" style = \"text-align: left;\">String</th><th title = \"String7\" style = \"text-align: left;\">String7</th><th title = \"Float64\" style = \"text-align: left;\">Float64</th><th title = \"Union{Missing, Int64}\" style = \"text-align: left;\">Int64?</th></tr></thead><tbody><tr><td class = \"rowNumber\" style = \"font-weight: bold; text-align: right;\">1</td><td style = \"text-align: left;\">Devin Booker</td><td style = \"text-align: left;\">SG</td><td style = \"text-align: right;\">21.3</td><td style = \"text-align: right;\">33833400</td></tr><tr><td class = \"rowNumber\" style = \"font-weight: bold; text-align: right;\">2</td><td style = \"text-align: left;\">Kevin Durant</td><td style = \"text-align: left;\">PF</td><td style = \"text-align: right;\">26.5</td><td style = \"text-align: right;\">44119845</td></tr><tr><td class = \"rowNumber\" style = \"font-weight: bold; text-align: right;\">3</td><td style = \"text-align: left;\">Chris Paul</td><td style = \"text-align: left;\">PG</td><td style = \"text-align: right;\">17.6</td><td style = \"text-align: right;\">28400000</td></tr></tbody></table></div>"
      ],
      "text/latex": [
       "\\begin{tabular}{r|cccc}\n",
       "\t& Player & Pos & PER & X2022\\_23\\\\\n",
       "\t\\hline\n",
       "\t& String & String7 & Float64 & Int64?\\\\\n",
       "\t\\hline\n",
       "\t1 & Devin Booker & SG & 21.3 & 33833400 \\\\\n",
       "\t2 & Kevin Durant & PF & 26.5 & 44119845 \\\\\n",
       "\t3 & Chris Paul & PG & 17.6 & 28400000 \\\\\n",
       "\\end{tabular}\n"
      ],
      "text/plain": [
       "\u001b[1m3×4 DataFrame\u001b[0m\n",
       "\u001b[1m Row \u001b[0m│\u001b[1m Player       \u001b[0m\u001b[1m Pos     \u001b[0m\u001b[1m PER     \u001b[0m\u001b[1m X2022_23 \u001b[0m\n",
       "     │\u001b[90m String       \u001b[0m\u001b[90m String7 \u001b[0m\u001b[90m Float64 \u001b[0m\u001b[90m Int64?   \u001b[0m\n",
       "─────┼──────────────────────────────────────────\n",
       "   1 │ Devin Booker  SG          21.3  33833400\n",
       "   2 │ Kevin Durant  PF          26.5  44119845\n",
       "   3 │ Chris Paul    PG          17.6  28400000"
      ]
     },
     "execution_count": 22,
     "metadata": {},
     "output_type": "execute_result"
    }
   ],
   "source": [
    "suns_roster = df[find_players_string(include_players), [2,3,6,7]]"
   ]
  },
  {
   "cell_type": "code",
   "execution_count": 23,
   "id": "24bc0070",
   "metadata": {},
   "outputs": [
    {
     "data": {
      "text/plain": [
       "150000000"
      ]
     },
     "execution_count": 23,
     "metadata": {},
     "output_type": "execute_result"
    }
   ],
   "source": [
    "budget = 150000000"
   ]
  },
  {
   "cell_type": "code",
   "execution_count": 24,
   "id": "cf008b2b",
   "metadata": {},
   "outputs": [
    {
     "data": {
      "text/latex": [
       "$$ 31.8 x_{1} + 30.6 x_{2} + 30.2 x_{3} + 28.4 x_{4} + 28.4 x_{5} + 27.3 x_{6} + 26.6 x_{7} + 26.5 x_{8} + 26.1 x_{9} + 25.9 x_{10} + 25.4 x_{11} + 25.3 x_{12} + 24.9 x_{13} + 24.8 x_{14} + 24 x_{15} + 23.7 x_{16} + 23.7 x_{17} + 23 x_{18} + 23 x_{19} + 22.9 x_{20} + 22.7 x_{21} + 22.7 x_{22} + 22.5 x_{23} + 22.5 x_{24} + 22.3 x_{25} + 22 x_{26} + 21.9 x_{27} + 21.8 x_{28} + 21.6 x_{29} + 21.5 x_{30} + 21.5 x_{31} + 21.4 x_{32} + 21.3 x_{33} + 21.2 x_{34} + 21.2 x_{35} + 21.2 x_{36} + 21.2 x_{37} + 21.1 x_{38} + 21 x_{39} + 21 x_{40} + 21 x_{41} + 20.9 x_{42} + 20.9 x_{43} + 20.8 x_{44} + 20.8 x_{45} + 20.7 x_{46} + 20.6 x_{47} + 20.5 x_{48} + 20.5 x_{49} + 20.4 x_{50} + 20.3 x_{51} + 20.2 x_{52} + 20 x_{53} + 19.9 x_{54} + 19.7 x_{55} + 19.7 x_{56} + 19.5 x_{57} + 19.3 x_{58} + 19.3 x_{59} + 19.2 x_{60} + 19.2 x_{61} + 19.2 x_{62} + 19 x_{63} + 18.9 x_{64} + 18.9 x_{65} + 18.7 x_{66} + 18.7 x_{67} + 18.6 x_{68} + 18.6 x_{69} + 18.4 x_{70} + 18.1 x_{71} + 18 x_{72} + 18 x_{73} + 17.8 x_{74} + 17.8 x_{75} + 17.8 x_{76} + 17.7 x_{77} + 17.6 x_{78} + 17.6 x_{79} + 17.6 x_{80} + 17.6 x_{81} + 17.6 x_{82} + 17.5 x_{83} + 17.5 x_{84} + 17.5 x_{85} + 17.5 x_{86} + 17.5 x_{87} + 17.4 x_{88} + 17.3 x_{89} + 17.2 x_{90} + 17.2 x_{91} + 17.1 x_{92} + 17.1 x_{93} + 17.1 x_{94} + 17 x_{95} + 17 x_{96} + 16.9 x_{97} + 16.9 x_{98} + 16.9 x_{99} + 16.8 x_{100} + 16.7 x_{101} + 16.6 x_{102} + 16.6 x_{103} + 16.5 x_{104} + 16.4 x_{105} + 16.4 x_{106} + 16.4 x_{107} + 16.4 x_{108} + 16.4 x_{109} + 16.4 x_{110} + 16.3 x_{111} + 16.3 x_{112} + 16.2 x_{113} + 16.2 x_{114} + 16.2 x_{115} + 16.1 x_{116} + 16.1 x_{117} + 16.1 x_{118} + 16.1 x_{119} + 16 x_{120} + 16 x_{121} + 16 x_{122} + 15.9 x_{123} + 15.9 x_{124} + 15.8 x_{125} + 15.8 x_{126} + 15.7 x_{127} + 15.7 x_{128} + 15.7 x_{129} + 15.7 x_{130} + 15.7 x_{131} + 15.7 x_{132} + 15.6 x_{133} + 15.6 x_{134} + 15.6 x_{135} + 15.6 x_{136} + 15.5 x_{137} + 15.5 x_{138} + 15.5 x_{139} + 15.4 x_{140} + 15.4 x_{141} + 15.4 x_{142} + 15.4 x_{143} + 15.4 x_{144} + 15.3 x_{145} + 15.3 x_{146} + 15.2 x_{147} + 15.2 x_{148} + 15.2 x_{149} + 15.2 x_{150} + 15.2 x_{151} + 15.1 x_{152} + 15.1 x_{153} + 15 x_{154} + 15 x_{155} + 15 x_{156} + 15 x_{157} + 15 x_{158} + 14.9 x_{159} + 14.9 x_{160} + 14.9 x_{161} + 14.8 x_{162} + 14.8 x_{163} + 14.8 x_{164} + 14.8 x_{165} + 14.7 x_{166} + 14.7 x_{167} + 14.7 x_{168} + 14.7 x_{169} + 14.7 x_{170} + 14.7 x_{171} + 14.7 x_{172} + 14.6 x_{173} + 14.6 x_{174} + 14.6 x_{175} + 14.5 x_{176} + 14.4 x_{177} + 14.4 x_{178} + 14.4 x_{179} + 14.4 x_{180} + 14.4 x_{181} + 14.3 x_{182} + 14.3 x_{183} + 14.2 x_{184} + 14.2 x_{185} + 14.2 x_{186} + 14.2 x_{187} + 14.2 x_{188} + 14.1 x_{189} + 14.1 x_{190} + 14.1 x_{191} + 14.1 x_{192} + 14.1 x_{193} + 14.1 x_{194} + 14 x_{195} + 14 x_{196} + 14 x_{197} + 14 x_{198} + 13.9 x_{199} + 13.9 x_{200} + 13.9 x_{201} + 13.9 x_{202} + 13.9 x_{203} + 13.8 x_{204} + 13.8 x_{205} + 13.8 x_{206} + 13.7 x_{207} + 13.7 x_{208} + 13.7 x_{209} + 13.7 x_{210} + 13.6 x_{211} + 13.6 x_{212} + 13.6 x_{213} + 13.6 x_{214} + 13.6 x_{215} + 13.4 x_{216} + 13.4 x_{217} + 13.4 x_{218} + 13.4 x_{219} + 13.3 x_{220} + 13.2 x_{221} + 13.2 x_{222} + 13.2 x_{223} + 13.1 x_{224} + 13.1 x_{225} + 13.1 x_{226} + 13.1 x_{227} + 13.1 x_{228} + 13.1 x_{229} + 13.1 x_{230} + 13 x_{231} + 13 x_{232} + 12.9 x_{233} + 12.9 x_{234} + 12.8 x_{235} + 12.8 x_{236} + 12.8 x_{237} + 12.8 x_{238} + 12.8 x_{239} + 12.7 x_{240} + 12.7 x_{241} + 12.7 x_{242} + 12.7 x_{243} + 12.6 x_{244} + 12.6 x_{245} + 12.5 x_{246} + 12.4 x_{247} + 12.4 x_{248} + 12.4 x_{249} + 12.4 x_{250} + 12.3 x_{251} + 12.3 x_{252} + 12.3 x_{253} + 12.3 x_{254} + 12.3 x_{255} + 12.3 x_{256} + 12.3 x_{257} + 12.2 x_{258} + 12.2 x_{259} + 12.2 x_{260} + 12.2 x_{261} + 12.1 x_{262} + 12 x_{263} + 12 x_{264} + 12 x_{265} + 11.9 x_{266} + 11.9 x_{267} + 11.9 x_{268} + 11.9 x_{269} + 11.8 x_{270} + 11.8 x_{271} + 11.8 x_{272} + 11.8 x_{273} + 11.7 x_{274} + 11.7 x_{275} + 11.7 x_{276} + 11.7 x_{277} + 11.6 x_{278} + 11.6 x_{279} + 11.6 x_{280} + 11.6 x_{281} + 11.6 x_{282} + 11.5 x_{283} + 11.5 x_{284} + 11.5 x_{285} + 11.4 x_{286} + 11.4 x_{287} + 11.4 x_{288} + 11.4 x_{289} + 11.3 x_{290} + 11.3 x_{291} + 11.3 x_{292} + 11.2 x_{293} + 11.2 x_{294} + 11.2 x_{295} + 11.2 x_{296} + 11.2 x_{297} + 11.1 x_{298} + 11.1 x_{299} + 11.1 x_{300} + 11 x_{301} + 11 x_{302} + 11 x_{303} + 11 x_{304} + 11 x_{305} + 10.9 x_{306} + 10.9 x_{307} + 10.8 x_{308} + 10.8 x_{309} + 10.8 x_{310} + 10.8 x_{311} + 10.8 x_{312} + 10.8 x_{313} + 10.8 x_{314} + 10.8 x_{315} + 10.7 x_{316} + 10.7 x_{317} + 10.7 x_{318} + 10.7 x_{319} + 10.7 x_{320} + 10.7 x_{321} + 10.6 x_{322} + 10.6 x_{323} + 10.6 x_{324} + 10.6 x_{325} + 10.5 x_{326} + 10.5 x_{327} + 10.5 x_{328} + 10.5 x_{329} + 10.5 x_{330} + 10.4 x_{331} + 10.4 x_{332} + 10.4 x_{333} + 10.3 x_{334} + 10.3 x_{335} + 10.2 x_{336} + 10.2 x_{337} + 10.2 x_{338} + 10.1 x_{339} + 10.1 x_{340} + 10.1 x_{341} + 10 x_{342} + 10 x_{343} + 10 x_{344} + 9.9 x_{345} + 9.9 x_{346} + 9.9 x_{347} + 9.9 x_{348} + 9.8 x_{349} + 9.7 x_{350} + 9.7 x_{351} + 9.6 x_{352} + 9.6 x_{353} + 9.6 x_{354} + 9.5 x_{355} + 9.5 x_{356} + 9.4 x_{357} + 9.4 x_{358} + 9.4 x_{359} + 9.4 x_{360} + 9.3 x_{361} + 9.3 x_{362} + 9.3 x_{363} + 9.2 x_{364} + 9.2 x_{365} + 9.2 x_{366} + 9.1 x_{367} + 9.1 x_{368} + 9 x_{369} + 9 x_{370} + 8.9 x_{371} + 8.9 x_{372} + 8.9 x_{373} + 8.8 x_{374} + 8.8 x_{375} + 8.8 x_{376} + 8.8 x_{377} + 8.8 x_{378} + 8.7 x_{379} + 8.7 x_{380} + 8.6 x_{381} + 8.6 x_{382} + 8.6 x_{383} + 8.5 x_{384} + 8.4 x_{385} + 8.4 x_{386} + 8.4 x_{387} + 8.3 x_{388} + 8.2 x_{389} + 8.1 x_{390} + 8.1 x_{391} + 7.9 x_{392} + 7.9 x_{393} + 7.9 x_{394} + 7.7 x_{395} + 7.7 x_{396} + 7.6 x_{397} + 7.5 x_{398} + 7.4 x_{399} + 7.4 x_{400} + 7.3 x_{401} + 7.2 x_{402} + 7 x_{403} + 7 x_{404} + 6.8 x_{405} + 6.7 x_{406} + 6.7 x_{407} + 6.5 x_{408} + 6.5 x_{409} + 6.5 x_{410} + 6.5 x_{411} + 6.3 x_{412} + 6.3 x_{413} + 6.3 x_{414} + 6.3 x_{415} + 6.2 x_{416} + 6.2 x_{417} + 6.1 x_{418} + 6.1 x_{419} + 6 x_{420} + 6 x_{421} + 6 x_{422} + 5.9 x_{423} + 5.6 x_{424} + 5.6 x_{425} + 5.4 x_{426} + 5.4 x_{427} + 4.3 x_{428} + 3.6 x_{429} + 2.6 x_{430} + 2.4 x_{431} + 2 x_{432} + 1.2 x_{433} + 1.2 x_{434} - 0.2 x_{435} - 1.4 x_{436} - 3.2 x_{437} - 3.5 x_{438} - 3.5 x_{439} - 5 x_{440} - 10.7 x_{441} $$"
      ],
      "text/plain": [
       "31.8 x[1] + 30.6 x[2] + 30.2 x[3] + 28.4 x[4] + 28.4 x[5] + 27.3 x[6] + 26.6 x[7] + 26.5 x[8] + 26.1 x[9] + 25.9 x[10] + 25.4 x[11] + 25.3 x[12] + 24.9 x[13] + 24.8 x[14] + 24 x[15] + 23.7 x[16] + 23.7 x[17] + 23 x[18] + 23 x[19] + 22.9 x[20] + 22.7 x[21] + 22.7 x[22] + 22.5 x[23] + 22.5 x[24] + 22.3 x[25] + 22 x[26] + 21.9 x[27] + 21.8 x[28] + 21.6 x[29] + 21.5 x[30] + 21.5 x[31] + 21.4 x[32] + 21.3 x[33] + 21.2 x[34] + 21.2 x[35] + 21.2 x[36] + 21.2 x[37] + 21.1 x[38] + 21 x[39] + 21 x[40] + 21 x[41] + 20.9 x[42] + 20.9 x[43] + 20.8 x[44] + 20.8 x[45] + 20.7 x[46] + 20.6 x[47] + 20.5 x[48] + 20.5 x[49] + 20.4 x[50] + 20.3 x[51] + 20.2 x[52] + 20 x[53] + 19.9 x[54] + 19.7 x[55] + 19.7 x[56] + 19.5 x[57] + 19.3 x[58] + 19.3 x[59] + 19.2 x[60] + 19.2 x[61] + 19.2 x[62] + 19 x[63] + 18.9 x[64] + 18.9 x[65] + 18.7 x[66] + 18.7 x[67] + 18.6 x[68] + 18.6 x[69] + 18.4 x[70] + 18.1 x[71] + 18 x[72] + 18 x[73] + 17.8 x[74] + 17.8 x[75] + 17.8 x[76] + 17.7 x[77] + 17.6 x[78] + 17.6 x[79] + 17.6 x[80] + 17.6 x[81] + 17.6 x[82] + 17.5 x[83] + 17.5 x[84] + 17.5 x[85] + 17.5 x[86] + 17.5 x[87] + 17.4 x[88] + 17.3 x[89] + 17.2 x[90] + 17.2 x[91] + 17.1 x[92] + 17.1 x[93] + 17.1 x[94] + 17 x[95] + 17 x[96] + 16.9 x[97] + 16.9 x[98] + 16.9 x[99] + 16.8 x[100] + 16.7 x[101] + 16.6 x[102] + 16.6 x[103] + 16.5 x[104] + 16.4 x[105] + 16.4 x[106] + 16.4 x[107] + 16.4 x[108] + 16.4 x[109] + 16.4 x[110] + 16.3 x[111] + 16.3 x[112] + 16.2 x[113] + 16.2 x[114] + 16.2 x[115] + 16.1 x[116] + 16.1 x[117] + 16.1 x[118] + 16.1 x[119] + 16 x[120] + 16 x[121] + 16 x[122] + 15.9 x[123] + 15.9 x[124] + 15.8 x[125] + 15.8 x[126] + 15.7 x[127] + 15.7 x[128] + 15.7 x[129] + 15.7 x[130] + 15.7 x[131] + 15.7 x[132] + 15.6 x[133] + 15.6 x[134] + 15.6 x[135] + 15.6 x[136] + 15.5 x[137] + 15.5 x[138] + 15.5 x[139] + 15.4 x[140] + 15.4 x[141] + 15.4 x[142] + 15.4 x[143] + 15.4 x[144] + 15.3 x[145] + 15.3 x[146] + 15.2 x[147] + 15.2 x[148] + 15.2 x[149] + 15.2 x[150] + 15.2 x[151] + 15.1 x[152] + 15.1 x[153] + 15 x[154] + 15 x[155] + 15 x[156] + 15 x[157] + 15 x[158] + 14.9 x[159] + 14.9 x[160] + 14.9 x[161] + 14.8 x[162] + 14.8 x[163] + 14.8 x[164] + 14.8 x[165] + 14.7 x[166] + 14.7 x[167] + 14.7 x[168] + 14.7 x[169] + 14.7 x[170] + 14.7 x[171] + 14.7 x[172] + 14.6 x[173] + 14.6 x[174] + 14.6 x[175] + 14.5 x[176] + 14.4 x[177] + 14.4 x[178] + 14.4 x[179] + 14.4 x[180] + 14.4 x[181] + 14.3 x[182] + 14.3 x[183] + 14.2 x[184] + 14.2 x[185] + 14.2 x[186] + 14.2 x[187] + 14.2 x[188] + 14.1 x[189] + 14.1 x[190] + 14.1 x[191] + 14.1 x[192] + 14.1 x[193] + 14.1 x[194] + 14 x[195] + 14 x[196] + 14 x[197] + 14 x[198] + 13.9 x[199] + 13.9 x[200] + 13.9 x[201] + 13.9 x[202] + 13.9 x[203] + 13.8 x[204] + 13.8 x[205] + 13.8 x[206] + 13.7 x[207] + 13.7 x[208] + 13.7 x[209] + 13.7 x[210] + 13.6 x[211] + 13.6 x[212] + 13.6 x[213] + 13.6 x[214] + 13.6 x[215] + 13.4 x[216] + 13.4 x[217] + 13.4 x[218] + 13.4 x[219] + 13.3 x[220] + 13.2 x[221] + 13.2 x[222] + 13.2 x[223] + 13.1 x[224] + 13.1 x[225] + 13.1 x[226] + 13.1 x[227] + 13.1 x[228] + 13.1 x[229] + 13.1 x[230] + 13 x[231] + 13 x[232] + 12.9 x[233] + 12.9 x[234] + 12.8 x[235] + 12.8 x[236] + 12.8 x[237] + 12.8 x[238] + 12.8 x[239] + 12.7 x[240] + 12.7 x[241] + 12.7 x[242] + 12.7 x[243] + 12.6 x[244] + 12.6 x[245] + 12.5 x[246] + 12.4 x[247] + 12.4 x[248] + 12.4 x[249] + 12.4 x[250] + 12.3 x[251] + 12.3 x[252] + 12.3 x[253] + 12.3 x[254] + 12.3 x[255] + 12.3 x[256] + 12.3 x[257] + 12.2 x[258] + 12.2 x[259] + 12.2 x[260] + 12.2 x[261] + 12.1 x[262] + 12 x[263] + 12 x[264] + 12 x[265] + 11.9 x[266] + 11.9 x[267] + 11.9 x[268] + 11.9 x[269] + 11.8 x[270] + 11.8 x[271] + 11.8 x[272] + 11.8 x[273] + 11.7 x[274] + 11.7 x[275] + 11.7 x[276] + 11.7 x[277] + 11.6 x[278] + 11.6 x[279] + 11.6 x[280] + 11.6 x[281] + 11.6 x[282] + 11.5 x[283] + 11.5 x[284] + 11.5 x[285] + 11.4 x[286] + 11.4 x[287] + 11.4 x[288] + 11.4 x[289] + 11.3 x[290] + 11.3 x[291] + 11.3 x[292] + 11.2 x[293] + 11.2 x[294] + 11.2 x[295] + 11.2 x[296] + 11.2 x[297] + 11.1 x[298] + 11.1 x[299] + 11.1 x[300] + 11 x[301] + 11 x[302] + 11 x[303] + 11 x[304] + 11 x[305] + 10.9 x[306] + 10.9 x[307] + 10.8 x[308] + 10.8 x[309] + 10.8 x[310] + 10.8 x[311] + 10.8 x[312] + 10.8 x[313] + 10.8 x[314] + 10.8 x[315] + 10.7 x[316] + 10.7 x[317] + 10.7 x[318] + 10.7 x[319] + 10.7 x[320] + 10.7 x[321] + 10.6 x[322] + 10.6 x[323] + 10.6 x[324] + 10.6 x[325] + 10.5 x[326] + 10.5 x[327] + 10.5 x[328] + 10.5 x[329] + 10.5 x[330] + 10.4 x[331] + 10.4 x[332] + 10.4 x[333] + 10.3 x[334] + 10.3 x[335] + 10.2 x[336] + 10.2 x[337] + 10.2 x[338] + 10.1 x[339] + 10.1 x[340] + 10.1 x[341] + 10 x[342] + 10 x[343] + 10 x[344] + 9.9 x[345] + 9.9 x[346] + 9.9 x[347] + 9.9 x[348] + 9.8 x[349] + 9.7 x[350] + 9.7 x[351] + 9.6 x[352] + 9.6 x[353] + 9.6 x[354] + 9.5 x[355] + 9.5 x[356] + 9.4 x[357] + 9.4 x[358] + 9.4 x[359] + 9.4 x[360] + 9.3 x[361] + 9.3 x[362] + 9.3 x[363] + 9.2 x[364] + 9.2 x[365] + 9.2 x[366] + 9.1 x[367] + 9.1 x[368] + 9 x[369] + 9 x[370] + 8.9 x[371] + 8.9 x[372] + 8.9 x[373] + 8.8 x[374] + 8.8 x[375] + 8.8 x[376] + 8.8 x[377] + 8.8 x[378] + 8.7 x[379] + 8.7 x[380] + 8.6 x[381] + 8.6 x[382] + 8.6 x[383] + 8.5 x[384] + 8.4 x[385] + 8.4 x[386] + 8.4 x[387] + 8.3 x[388] + 8.2 x[389] + 8.1 x[390] + 8.1 x[391] + 7.9 x[392] + 7.9 x[393] + 7.9 x[394] + 7.7 x[395] + 7.7 x[396] + 7.6 x[397] + 7.5 x[398] + 7.4 x[399] + 7.4 x[400] + 7.3 x[401] + 7.2 x[402] + 7 x[403] + 7 x[404] + 6.8 x[405] + 6.7 x[406] + 6.7 x[407] + 6.5 x[408] + 6.5 x[409] + 6.5 x[410] + 6.5 x[411] + 6.3 x[412] + 6.3 x[413] + 6.3 x[414] + 6.3 x[415] + 6.2 x[416] + 6.2 x[417] + 6.1 x[418] + 6.1 x[419] + 6 x[420] + 6 x[421] + 6 x[422] + 5.9 x[423] + 5.6 x[424] + 5.6 x[425] + 5.4 x[426] + 5.4 x[427] + 4.3 x[428] + 3.6 x[429] + 2.6 x[430] + 2.4 x[431] + 2 x[432] + 1.2 x[433] + 1.2 x[434] - 0.2 x[435] - 1.4 x[436] - 3.2 x[437] - 3.5 x[438] - 3.5 x[439] - 5 x[440] - 10.7 x[441]"
      ]
     },
     "execution_count": 24,
     "metadata": {},
     "output_type": "execute_result"
    }
   ],
   "source": [
    "suns = Model(GLPK.Optimizer)\n",
    "n = nrow(df)\n",
    "c = df[1:n, 6]\n",
    "a = df[1:n, 7]\n",
    "mat = df[1:n ,8:12]\n",
    "\n",
    "min_m = df[!,5]\n",
    "mp = df[!,4]\n",
    "\n",
    "@variable(suns, x[i=1:n], Bin)\n",
    "\n",
    "# add requirements for players to include\n",
    "for player in include_players\n",
    "    player_index = findfirst(x -> occursin(player, x), df.Player)\n",
    "    @constraint(suns, sum(x[player_index]) == 1)\n",
    "end\n",
    "\n",
    "# budget\n",
    "@constraint(suns, sum(a[i]*x[i] for i = 1:n) <= budget)\n",
    "\n",
    "# 14 <= number of players <= 15\n",
    "@constraint(suns, sum(x[i] for i=1:n) <= 15)\n",
    "@constraint(suns, sum(x[i] for i=1:n) >= 14)\n",
    "\n",
    "\n",
    "# limiting to no more than 5 per position\n",
    "for p in positions\n",
    "    pos = df[!, p]\n",
    "    @constraint(suns, sum(pos[i]*x[i] for i = 1:n) <= 5)\n",
    "    @constraint(suns, sum(pos[i]*x[i] for i = 1:n) >= 2)\n",
    "end\n",
    "\n",
    "for i = 1:n\n",
    "    @constraint(suns, mp[i] >= min_m[i]*x[i])\n",
    "end\n",
    "\n",
    "@objective(suns, Max, sum(c[j]*x[j] for j=1:n))"
   ]
  },
  {
   "cell_type": "code",
   "execution_count": 25,
   "id": "9b8affe7",
   "metadata": {},
   "outputs": [
    {
     "name": "stdout",
     "output_type": "stream",
     "text": [
      "Objective value: 306.5\n",
      "Average PER:20.433333333333334\n"
     ]
    }
   ],
   "source": [
    "JuMP.optimize!(suns)\n",
    "\n",
    "println(\"Objective value: \", JuMP.objective_value(suns))\n",
    "\n",
    "println(\"Average PER:\", (JuMP.objective_value(suns))/15)"
   ]
  },
  {
   "cell_type": "code",
   "execution_count": 26,
   "id": "01dde966",
   "metadata": {},
   "outputs": [
    {
     "data": {
      "text/html": [
       "<div><div style = \"float: left;\"><span>15×4 DataFrame</span></div><div style = \"clear: both;\"></div></div><div class = \"data-frame\" style = \"overflow-x: scroll;\"><table class = \"data-frame\" style = \"margin-bottom: 6px;\"><thead><tr class = \"header\"><th class = \"rowNumber\" style = \"font-weight: bold; text-align: right;\">Row</th><th style = \"text-align: left;\">Player</th><th style = \"text-align: left;\">Pos</th><th style = \"text-align: left;\">PER</th><th style = \"text-align: left;\">X2022_23</th></tr><tr class = \"subheader headerLastRow\"><th class = \"rowNumber\" style = \"font-weight: bold; text-align: right;\"></th><th title = \"String\" style = \"text-align: left;\">String</th><th title = \"String7\" style = \"text-align: left;\">String7</th><th title = \"Float64\" style = \"text-align: left;\">Float64</th><th title = \"Union{Missing, Int64}\" style = \"text-align: left;\">Int64?</th></tr></thead><tbody><tr><td class = \"rowNumber\" style = \"font-weight: bold; text-align: right;\">1</td><td style = \"text-align: left;\">Kevin Durant</td><td style = \"text-align: left;\">PF</td><td style = \"text-align: right;\">26.5</td><td style = \"text-align: right;\">44119845</td></tr><tr><td class = \"rowNumber\" style = \"font-weight: bold; text-align: right;\">2</td><td style = \"text-align: left;\">Zion Williamson</td><td style = \"text-align: left;\">PF</td><td style = \"text-align: right;\">25.3</td><td style = \"text-align: right;\">13534817</td></tr><tr><td class = \"rowNumber\" style = \"font-weight: bold; text-align: right;\">3</td><td style = \"text-align: left;\">Tyrese Haliburton</td><td style = \"text-align: left;\">PG</td><td style = \"text-align: right;\">22.7</td><td style = \"text-align: right;\">4215120</td></tr><tr><td class = \"rowNumber\" style = \"font-weight: bold; text-align: right;\">4</td><td style = \"text-align: left;\">Thomas Bryant</td><td style = \"text-align: left;\">C</td><td style = \"text-align: right;\">21.5</td><td style = \"text-align: right;\">1836090</td></tr><tr><td class = \"rowNumber\" style = \"font-weight: bold; text-align: right;\">5</td><td style = \"text-align: left;\">Andre Drummond</td><td style = \"text-align: left;\">C</td><td style = \"text-align: right;\">21.5</td><td style = \"text-align: right;\">3200000</td></tr><tr><td class = \"rowNumber\" style = \"font-weight: bold; text-align: right;\">6</td><td style = \"text-align: left;\">Devin Booker</td><td style = \"text-align: left;\">SG</td><td style = \"text-align: right;\">21.3</td><td style = \"text-align: right;\">33833400</td></tr><tr><td class = \"rowNumber\" style = \"font-weight: bold; text-align: right;\">7</td><td style = \"text-align: left;\">Willy Hernangomez</td><td style = \"text-align: left;\">C</td><td style = \"text-align: right;\">21.2</td><td style = \"text-align: right;\">2443581</td></tr><tr><td class = \"rowNumber\" style = \"font-weight: bold; text-align: right;\">8</td><td style = \"text-align: left;\">Walker Kessler</td><td style = \"text-align: left;\">C</td><td style = \"text-align: right;\">21.0</td><td style = \"text-align: right;\">2696400</td></tr><tr><td class = \"rowNumber\" style = \"font-weight: bold; text-align: right;\">9</td><td style = \"text-align: left;\">Daniel Gafford</td><td style = \"text-align: left;\">C</td><td style = \"text-align: right;\">20.5</td><td style = \"text-align: right;\">1930681</td></tr><tr><td class = \"rowNumber\" style = \"font-weight: bold; text-align: right;\">10</td><td style = \"text-align: left;\">Brandon Clarke</td><td style = \"text-align: left;\">PF</td><td style = \"text-align: right;\">20.4</td><td style = \"text-align: right;\">4343920</td></tr><tr><td class = \"rowNumber\" style = \"font-weight: bold; text-align: right;\">11</td><td style = \"text-align: left;\">Desmond Bane</td><td style = \"text-align: left;\">SG</td><td style = \"text-align: right;\">19.2</td><td style = \"text-align: right;\">2130240</td></tr><tr><td class = \"rowNumber\" style = \"font-weight: bold; text-align: right;\">12</td><td style = \"text-align: left;\">Chris Paul</td><td style = \"text-align: left;\">PG</td><td style = \"text-align: right;\">17.6</td><td style = \"text-align: right;\">28400000</td></tr><tr><td class = \"rowNumber\" style = \"font-weight: bold; text-align: right;\">13</td><td style = \"text-align: left;\">Xavier Tillman Sr.</td><td style = \"text-align: left;\">PF</td><td style = \"text-align: right;\">17.1</td><td style = \"text-align: right;\">1782621</td></tr><tr><td class = \"rowNumber\" style = \"font-weight: bold; text-align: right;\">14</td><td style = \"text-align: left;\">Joe Wieskamp</td><td style = \"text-align: left;\">SF</td><td style = \"text-align: right;\">15.7</td><td style = \"text-align: right;\">2175000</td></tr><tr><td class = \"rowNumber\" style = \"font-weight: bold; text-align: right;\">15</td><td style = \"text-align: left;\">Kenyon Martin Jr.</td><td style = \"text-align: left;\">SF</td><td style = \"text-align: right;\">15.0</td><td style = \"text-align: right;\">1782621</td></tr></tbody></table></div>"
      ],
      "text/latex": [
       "\\begin{tabular}{r|cccc}\n",
       "\t& Player & Pos & PER & X2022\\_23\\\\\n",
       "\t\\hline\n",
       "\t& String & String7 & Float64 & Int64?\\\\\n",
       "\t\\hline\n",
       "\t1 & Kevin Durant & PF & 26.5 & 44119845 \\\\\n",
       "\t2 & Zion Williamson & PF & 25.3 & 13534817 \\\\\n",
       "\t3 & Tyrese Haliburton & PG & 22.7 & 4215120 \\\\\n",
       "\t4 & Thomas Bryant & C & 21.5 & 1836090 \\\\\n",
       "\t5 & Andre Drummond & C & 21.5 & 3200000 \\\\\n",
       "\t6 & Devin Booker & SG & 21.3 & 33833400 \\\\\n",
       "\t7 & Willy Hernangomez & C & 21.2 & 2443581 \\\\\n",
       "\t8 & Walker Kessler & C & 21.0 & 2696400 \\\\\n",
       "\t9 & Daniel Gafford & C & 20.5 & 1930681 \\\\\n",
       "\t10 & Brandon Clarke & PF & 20.4 & 4343920 \\\\\n",
       "\t11 & Desmond Bane & SG & 19.2 & 2130240 \\\\\n",
       "\t12 & Chris Paul & PG & 17.6 & 28400000 \\\\\n",
       "\t13 & Xavier Tillman Sr. & PF & 17.1 & 1782621 \\\\\n",
       "\t14 & Joe Wieskamp & SF & 15.7 & 2175000 \\\\\n",
       "\t15 & Kenyon Martin Jr. & SF & 15.0 & 1782621 \\\\\n",
       "\\end{tabular}\n"
      ],
      "text/plain": [
       "\u001b[1m15×4 DataFrame\u001b[0m\n",
       "\u001b[1m Row \u001b[0m│\u001b[1m Player             \u001b[0m\u001b[1m Pos     \u001b[0m\u001b[1m PER     \u001b[0m\u001b[1m X2022_23 \u001b[0m\n",
       "     │\u001b[90m String             \u001b[0m\u001b[90m String7 \u001b[0m\u001b[90m Float64 \u001b[0m\u001b[90m Int64?   \u001b[0m\n",
       "─────┼────────────────────────────────────────────────\n",
       "   1 │ Kevin Durant        PF          26.5  44119845\n",
       "   2 │ Zion Williamson     PF          25.3  13534817\n",
       "   3 │ Tyrese Haliburton   PG          22.7   4215120\n",
       "   4 │ Thomas Bryant       C           21.5   1836090\n",
       "   5 │ Andre Drummond      C           21.5   3200000\n",
       "   6 │ Devin Booker        SG          21.3  33833400\n",
       "   7 │ Willy Hernangomez   C           21.2   2443581\n",
       "   8 │ Walker Kessler      C           21.0   2696400\n",
       "   9 │ Daniel Gafford      C           20.5   1930681\n",
       "  10 │ Brandon Clarke      PF          20.4   4343920\n",
       "  11 │ Desmond Bane        SG          19.2   2130240\n",
       "  12 │ Chris Paul          PG          17.6  28400000\n",
       "  13 │ Xavier Tillman Sr.  PF          17.1   1782621\n",
       "  14 │ Joe Wieskamp        SF          15.7   2175000\n",
       "  15 │ Kenyon Martin Jr.   SF          15.0   1782621"
      ]
     },
     "execution_count": 26,
     "metadata": {},
     "output_type": "execute_result"
    }
   ],
   "source": [
    "# Here is our team\n",
    "\n",
    "vector = JuMP.value.(x)\n",
    "guess = df[find_players_binary(vector), [2,3,6,7]]"
   ]
  },
  {
   "cell_type": "code",
   "execution_count": 27,
   "id": "5d3ee316",
   "metadata": {},
   "outputs": [
    {
     "data": {
      "text/plain": [
       "148424336"
      ]
     },
     "execution_count": 27,
     "metadata": {},
     "output_type": "execute_result"
    }
   ],
   "source": [
    "sum(guess[:,4]) # Salary is good"
   ]
  },
  {
   "cell_type": "markdown",
   "id": "2401f769",
   "metadata": {},
   "source": [
    "# Warriors Example"
   ]
  },
  {
   "cell_type": "code",
   "execution_count": 28,
   "id": "1e852f00",
   "metadata": {},
   "outputs": [
    {
     "data": {
      "text/plain": [
       "1-element Vector{String}:\n",
       " \"Klay Thompson\""
      ]
     },
     "execution_count": 28,
     "metadata": {},
     "output_type": "execute_result"
    }
   ],
   "source": [
    "include_players = [\"Stephen Curry\"]\n",
    "\n",
    "not_include_players = [\"Klay Thompson\"]"
   ]
  },
  {
   "cell_type": "code",
   "execution_count": 29,
   "id": "c4f4b1cd",
   "metadata": {},
   "outputs": [
    {
     "data": {
      "text/plain": [
       "150000000"
      ]
     },
     "execution_count": 29,
     "metadata": {},
     "output_type": "execute_result"
    }
   ],
   "source": [
    "budget = 150000000"
   ]
  },
  {
   "cell_type": "code",
   "execution_count": 30,
   "id": "9e4d1816",
   "metadata": {},
   "outputs": [
    {
     "data": {
      "text/latex": [
       "$$ 31.8 x_{1} + 30.6 x_{2} + 30.2 x_{3} + 28.4 x_{4} + 28.4 x_{5} + 27.3 x_{6} + 26.6 x_{7} + 26.5 x_{8} + 26.1 x_{9} + 25.9 x_{10} + 25.4 x_{11} + 25.3 x_{12} + 24.9 x_{13} + 24.8 x_{14} + 24 x_{15} + 23.7 x_{16} + 23.7 x_{17} + 23 x_{18} + 23 x_{19} + 22.9 x_{20} + 22.7 x_{21} + 22.7 x_{22} + 22.5 x_{23} + 22.5 x_{24} + 22.3 x_{25} + 22 x_{26} + 21.9 x_{27} + 21.8 x_{28} + 21.6 x_{29} + 21.5 x_{30} + 21.5 x_{31} + 21.4 x_{32} + 21.3 x_{33} + 21.2 x_{34} + 21.2 x_{35} + 21.2 x_{36} + 21.2 x_{37} + 21.1 x_{38} + 21 x_{39} + 21 x_{40} + 21 x_{41} + 20.9 x_{42} + 20.9 x_{43} + 20.8 x_{44} + 20.8 x_{45} + 20.7 x_{46} + 20.6 x_{47} + 20.5 x_{48} + 20.5 x_{49} + 20.4 x_{50} + 20.3 x_{51} + 20.2 x_{52} + 20 x_{53} + 19.9 x_{54} + 19.7 x_{55} + 19.7 x_{56} + 19.5 x_{57} + 19.3 x_{58} + 19.3 x_{59} + 19.2 x_{60} + 19.2 x_{61} + 19.2 x_{62} + 19 x_{63} + 18.9 x_{64} + 18.9 x_{65} + 18.7 x_{66} + 18.7 x_{67} + 18.6 x_{68} + 18.6 x_{69} + 18.4 x_{70} + 18.1 x_{71} + 18 x_{72} + 18 x_{73} + 17.8 x_{74} + 17.8 x_{75} + 17.8 x_{76} + 17.7 x_{77} + 17.6 x_{78} + 17.6 x_{79} + 17.6 x_{80} + 17.6 x_{81} + 17.6 x_{82} + 17.5 x_{83} + 17.5 x_{84} + 17.5 x_{85} + 17.5 x_{86} + 17.5 x_{87} + 17.4 x_{88} + 17.3 x_{89} + 17.2 x_{90} + 17.2 x_{91} + 17.1 x_{92} + 17.1 x_{93} + 17.1 x_{94} + 17 x_{95} + 17 x_{96} + 16.9 x_{97} + 16.9 x_{98} + 16.9 x_{99} + 16.8 x_{100} + 16.7 x_{101} + 16.6 x_{102} + 16.6 x_{103} + 16.5 x_{104} + 16.4 x_{105} + 16.4 x_{106} + 16.4 x_{107} + 16.4 x_{108} + 16.4 x_{109} + 16.4 x_{110} + 16.3 x_{111} + 16.3 x_{112} + 16.2 x_{113} + 16.2 x_{114} + 16.2 x_{115} + 16.1 x_{116} + 16.1 x_{117} + 16.1 x_{118} + 16.1 x_{119} + 16 x_{120} + 16 x_{121} + 16 x_{122} + 15.9 x_{123} + 15.9 x_{124} + 15.8 x_{125} + 15.8 x_{126} + 15.7 x_{127} + 15.7 x_{128} + 15.7 x_{129} + 15.7 x_{130} + 15.7 x_{131} + 15.7 x_{132} + 15.6 x_{133} + 15.6 x_{134} + 15.6 x_{135} + 15.6 x_{136} + 15.5 x_{137} + 15.5 x_{138} + 15.5 x_{139} + 15.4 x_{140} + 15.4 x_{141} + 15.4 x_{142} + 15.4 x_{143} + 15.4 x_{144} + 15.3 x_{145} + 15.3 x_{146} + 15.2 x_{147} + 15.2 x_{148} + 15.2 x_{149} + 15.2 x_{150} + 15.2 x_{151} + 15.1 x_{152} + 15.1 x_{153} + 15 x_{154} + 15 x_{155} + 15 x_{156} + 15 x_{157} + 15 x_{158} + 14.9 x_{159} + 14.9 x_{160} + 14.9 x_{161} + 14.8 x_{162} + 14.8 x_{163} + 14.8 x_{164} + 14.8 x_{165} + 14.7 x_{166} + 14.7 x_{167} + 14.7 x_{168} + 14.7 x_{169} + 14.7 x_{170} + 14.7 x_{171} + 14.7 x_{172} + 14.6 x_{173} + 14.6 x_{174} + 14.6 x_{175} + 14.5 x_{176} + 14.4 x_{177} + 14.4 x_{178} + 14.4 x_{179} + 14.4 x_{180} + 14.4 x_{181} + 14.3 x_{182} + 14.3 x_{183} + 14.2 x_{184} + 14.2 x_{185} + 14.2 x_{186} + 14.2 x_{187} + 14.2 x_{188} + 14.1 x_{189} + 14.1 x_{190} + 14.1 x_{191} + 14.1 x_{192} + 14.1 x_{193} + 14.1 x_{194} + 14 x_{195} + 14 x_{196} + 14 x_{197} + 14 x_{198} + 13.9 x_{199} + 13.9 x_{200} + 13.9 x_{201} + 13.9 x_{202} + 13.9 x_{203} + 13.8 x_{204} + 13.8 x_{205} + 13.8 x_{206} + 13.7 x_{207} + 13.7 x_{208} + 13.7 x_{209} + 13.7 x_{210} + 13.6 x_{211} + 13.6 x_{212} + 13.6 x_{213} + 13.6 x_{214} + 13.6 x_{215} + 13.4 x_{216} + 13.4 x_{217} + 13.4 x_{218} + 13.4 x_{219} + 13.3 x_{220} + 13.2 x_{221} + 13.2 x_{222} + 13.2 x_{223} + 13.1 x_{224} + 13.1 x_{225} + 13.1 x_{226} + 13.1 x_{227} + 13.1 x_{228} + 13.1 x_{229} + 13.1 x_{230} + 13 x_{231} + 13 x_{232} + 12.9 x_{233} + 12.9 x_{234} + 12.8 x_{235} + 12.8 x_{236} + 12.8 x_{237} + 12.8 x_{238} + 12.8 x_{239} + 12.7 x_{240} + 12.7 x_{241} + 12.7 x_{242} + 12.7 x_{243} + 12.6 x_{244} + 12.6 x_{245} + 12.5 x_{246} + 12.4 x_{247} + 12.4 x_{248} + 12.4 x_{249} + 12.4 x_{250} + 12.3 x_{251} + 12.3 x_{252} + 12.3 x_{253} + 12.3 x_{254} + 12.3 x_{255} + 12.3 x_{256} + 12.3 x_{257} + 12.2 x_{258} + 12.2 x_{259} + 12.2 x_{260} + 12.2 x_{261} + 12.1 x_{262} + 12 x_{263} + 12 x_{264} + 12 x_{265} + 11.9 x_{266} + 11.9 x_{267} + 11.9 x_{268} + 11.9 x_{269} + 11.8 x_{270} + 11.8 x_{271} + 11.8 x_{272} + 11.8 x_{273} + 11.7 x_{274} + 11.7 x_{275} + 11.7 x_{276} + 11.7 x_{277} + 11.6 x_{278} + 11.6 x_{279} + 11.6 x_{280} + 11.6 x_{281} + 11.6 x_{282} + 11.5 x_{283} + 11.5 x_{284} + 11.5 x_{285} + 11.4 x_{286} + 11.4 x_{287} + 11.4 x_{288} + 11.4 x_{289} + 11.3 x_{290} + 11.3 x_{291} + 11.3 x_{292} + 11.2 x_{293} + 11.2 x_{294} + 11.2 x_{295} + 11.2 x_{296} + 11.2 x_{297} + 11.1 x_{298} + 11.1 x_{299} + 11.1 x_{300} + 11 x_{301} + 11 x_{302} + 11 x_{303} + 11 x_{304} + 11 x_{305} + 10.9 x_{306} + 10.9 x_{307} + 10.8 x_{308} + 10.8 x_{309} + 10.8 x_{310} + 10.8 x_{311} + 10.8 x_{312} + 10.8 x_{313} + 10.8 x_{314} + 10.8 x_{315} + 10.7 x_{316} + 10.7 x_{317} + 10.7 x_{318} + 10.7 x_{319} + 10.7 x_{320} + 10.7 x_{321} + 10.6 x_{322} + 10.6 x_{323} + 10.6 x_{324} + 10.6 x_{325} + 10.5 x_{326} + 10.5 x_{327} + 10.5 x_{328} + 10.5 x_{329} + 10.5 x_{330} + 10.4 x_{331} + 10.4 x_{332} + 10.4 x_{333} + 10.3 x_{334} + 10.3 x_{335} + 10.2 x_{336} + 10.2 x_{337} + 10.2 x_{338} + 10.1 x_{339} + 10.1 x_{340} + 10.1 x_{341} + 10 x_{342} + 10 x_{343} + 10 x_{344} + 9.9 x_{345} + 9.9 x_{346} + 9.9 x_{347} + 9.9 x_{348} + 9.8 x_{349} + 9.7 x_{350} + 9.7 x_{351} + 9.6 x_{352} + 9.6 x_{353} + 9.6 x_{354} + 9.5 x_{355} + 9.5 x_{356} + 9.4 x_{357} + 9.4 x_{358} + 9.4 x_{359} + 9.4 x_{360} + 9.3 x_{361} + 9.3 x_{362} + 9.3 x_{363} + 9.2 x_{364} + 9.2 x_{365} + 9.2 x_{366} + 9.1 x_{367} + 9.1 x_{368} + 9 x_{369} + 9 x_{370} + 8.9 x_{371} + 8.9 x_{372} + 8.9 x_{373} + 8.8 x_{374} + 8.8 x_{375} + 8.8 x_{376} + 8.8 x_{377} + 8.8 x_{378} + 8.7 x_{379} + 8.7 x_{380} + 8.6 x_{381} + 8.6 x_{382} + 8.6 x_{383} + 8.5 x_{384} + 8.4 x_{385} + 8.4 x_{386} + 8.4 x_{387} + 8.3 x_{388} + 8.2 x_{389} + 8.1 x_{390} + 8.1 x_{391} + 7.9 x_{392} + 7.9 x_{393} + 7.9 x_{394} + 7.7 x_{395} + 7.7 x_{396} + 7.6 x_{397} + 7.5 x_{398} + 7.4 x_{399} + 7.4 x_{400} + 7.3 x_{401} + 7.2 x_{402} + 7 x_{403} + 7 x_{404} + 6.8 x_{405} + 6.7 x_{406} + 6.7 x_{407} + 6.5 x_{408} + 6.5 x_{409} + 6.5 x_{410} + 6.5 x_{411} + 6.3 x_{412} + 6.3 x_{413} + 6.3 x_{414} + 6.3 x_{415} + 6.2 x_{416} + 6.2 x_{417} + 6.1 x_{418} + 6.1 x_{419} + 6 x_{420} + 6 x_{421} + 6 x_{422} + 5.9 x_{423} + 5.6 x_{424} + 5.6 x_{425} + 5.4 x_{426} + 5.4 x_{427} + 4.3 x_{428} + 3.6 x_{429} + 2.6 x_{430} + 2.4 x_{431} + 2 x_{432} + 1.2 x_{433} + 1.2 x_{434} - 0.2 x_{435} - 1.4 x_{436} - 3.2 x_{437} - 3.5 x_{438} - 3.5 x_{439} - 5 x_{440} - 10.7 x_{441} $$"
      ],
      "text/plain": [
       "31.8 x[1] + 30.6 x[2] + 30.2 x[3] + 28.4 x[4] + 28.4 x[5] + 27.3 x[6] + 26.6 x[7] + 26.5 x[8] + 26.1 x[9] + 25.9 x[10] + 25.4 x[11] + 25.3 x[12] + 24.9 x[13] + 24.8 x[14] + 24 x[15] + 23.7 x[16] + 23.7 x[17] + 23 x[18] + 23 x[19] + 22.9 x[20] + 22.7 x[21] + 22.7 x[22] + 22.5 x[23] + 22.5 x[24] + 22.3 x[25] + 22 x[26] + 21.9 x[27] + 21.8 x[28] + 21.6 x[29] + 21.5 x[30] + 21.5 x[31] + 21.4 x[32] + 21.3 x[33] + 21.2 x[34] + 21.2 x[35] + 21.2 x[36] + 21.2 x[37] + 21.1 x[38] + 21 x[39] + 21 x[40] + 21 x[41] + 20.9 x[42] + 20.9 x[43] + 20.8 x[44] + 20.8 x[45] + 20.7 x[46] + 20.6 x[47] + 20.5 x[48] + 20.5 x[49] + 20.4 x[50] + 20.3 x[51] + 20.2 x[52] + 20 x[53] + 19.9 x[54] + 19.7 x[55] + 19.7 x[56] + 19.5 x[57] + 19.3 x[58] + 19.3 x[59] + 19.2 x[60] + 19.2 x[61] + 19.2 x[62] + 19 x[63] + 18.9 x[64] + 18.9 x[65] + 18.7 x[66] + 18.7 x[67] + 18.6 x[68] + 18.6 x[69] + 18.4 x[70] + 18.1 x[71] + 18 x[72] + 18 x[73] + 17.8 x[74] + 17.8 x[75] + 17.8 x[76] + 17.7 x[77] + 17.6 x[78] + 17.6 x[79] + 17.6 x[80] + 17.6 x[81] + 17.6 x[82] + 17.5 x[83] + 17.5 x[84] + 17.5 x[85] + 17.5 x[86] + 17.5 x[87] + 17.4 x[88] + 17.3 x[89] + 17.2 x[90] + 17.2 x[91] + 17.1 x[92] + 17.1 x[93] + 17.1 x[94] + 17 x[95] + 17 x[96] + 16.9 x[97] + 16.9 x[98] + 16.9 x[99] + 16.8 x[100] + 16.7 x[101] + 16.6 x[102] + 16.6 x[103] + 16.5 x[104] + 16.4 x[105] + 16.4 x[106] + 16.4 x[107] + 16.4 x[108] + 16.4 x[109] + 16.4 x[110] + 16.3 x[111] + 16.3 x[112] + 16.2 x[113] + 16.2 x[114] + 16.2 x[115] + 16.1 x[116] + 16.1 x[117] + 16.1 x[118] + 16.1 x[119] + 16 x[120] + 16 x[121] + 16 x[122] + 15.9 x[123] + 15.9 x[124] + 15.8 x[125] + 15.8 x[126] + 15.7 x[127] + 15.7 x[128] + 15.7 x[129] + 15.7 x[130] + 15.7 x[131] + 15.7 x[132] + 15.6 x[133] + 15.6 x[134] + 15.6 x[135] + 15.6 x[136] + 15.5 x[137] + 15.5 x[138] + 15.5 x[139] + 15.4 x[140] + 15.4 x[141] + 15.4 x[142] + 15.4 x[143] + 15.4 x[144] + 15.3 x[145] + 15.3 x[146] + 15.2 x[147] + 15.2 x[148] + 15.2 x[149] + 15.2 x[150] + 15.2 x[151] + 15.1 x[152] + 15.1 x[153] + 15 x[154] + 15 x[155] + 15 x[156] + 15 x[157] + 15 x[158] + 14.9 x[159] + 14.9 x[160] + 14.9 x[161] + 14.8 x[162] + 14.8 x[163] + 14.8 x[164] + 14.8 x[165] + 14.7 x[166] + 14.7 x[167] + 14.7 x[168] + 14.7 x[169] + 14.7 x[170] + 14.7 x[171] + 14.7 x[172] + 14.6 x[173] + 14.6 x[174] + 14.6 x[175] + 14.5 x[176] + 14.4 x[177] + 14.4 x[178] + 14.4 x[179] + 14.4 x[180] + 14.4 x[181] + 14.3 x[182] + 14.3 x[183] + 14.2 x[184] + 14.2 x[185] + 14.2 x[186] + 14.2 x[187] + 14.2 x[188] + 14.1 x[189] + 14.1 x[190] + 14.1 x[191] + 14.1 x[192] + 14.1 x[193] + 14.1 x[194] + 14 x[195] + 14 x[196] + 14 x[197] + 14 x[198] + 13.9 x[199] + 13.9 x[200] + 13.9 x[201] + 13.9 x[202] + 13.9 x[203] + 13.8 x[204] + 13.8 x[205] + 13.8 x[206] + 13.7 x[207] + 13.7 x[208] + 13.7 x[209] + 13.7 x[210] + 13.6 x[211] + 13.6 x[212] + 13.6 x[213] + 13.6 x[214] + 13.6 x[215] + 13.4 x[216] + 13.4 x[217] + 13.4 x[218] + 13.4 x[219] + 13.3 x[220] + 13.2 x[221] + 13.2 x[222] + 13.2 x[223] + 13.1 x[224] + 13.1 x[225] + 13.1 x[226] + 13.1 x[227] + 13.1 x[228] + 13.1 x[229] + 13.1 x[230] + 13 x[231] + 13 x[232] + 12.9 x[233] + 12.9 x[234] + 12.8 x[235] + 12.8 x[236] + 12.8 x[237] + 12.8 x[238] + 12.8 x[239] + 12.7 x[240] + 12.7 x[241] + 12.7 x[242] + 12.7 x[243] + 12.6 x[244] + 12.6 x[245] + 12.5 x[246] + 12.4 x[247] + 12.4 x[248] + 12.4 x[249] + 12.4 x[250] + 12.3 x[251] + 12.3 x[252] + 12.3 x[253] + 12.3 x[254] + 12.3 x[255] + 12.3 x[256] + 12.3 x[257] + 12.2 x[258] + 12.2 x[259] + 12.2 x[260] + 12.2 x[261] + 12.1 x[262] + 12 x[263] + 12 x[264] + 12 x[265] + 11.9 x[266] + 11.9 x[267] + 11.9 x[268] + 11.9 x[269] + 11.8 x[270] + 11.8 x[271] + 11.8 x[272] + 11.8 x[273] + 11.7 x[274] + 11.7 x[275] + 11.7 x[276] + 11.7 x[277] + 11.6 x[278] + 11.6 x[279] + 11.6 x[280] + 11.6 x[281] + 11.6 x[282] + 11.5 x[283] + 11.5 x[284] + 11.5 x[285] + 11.4 x[286] + 11.4 x[287] + 11.4 x[288] + 11.4 x[289] + 11.3 x[290] + 11.3 x[291] + 11.3 x[292] + 11.2 x[293] + 11.2 x[294] + 11.2 x[295] + 11.2 x[296] + 11.2 x[297] + 11.1 x[298] + 11.1 x[299] + 11.1 x[300] + 11 x[301] + 11 x[302] + 11 x[303] + 11 x[304] + 11 x[305] + 10.9 x[306] + 10.9 x[307] + 10.8 x[308] + 10.8 x[309] + 10.8 x[310] + 10.8 x[311] + 10.8 x[312] + 10.8 x[313] + 10.8 x[314] + 10.8 x[315] + 10.7 x[316] + 10.7 x[317] + 10.7 x[318] + 10.7 x[319] + 10.7 x[320] + 10.7 x[321] + 10.6 x[322] + 10.6 x[323] + 10.6 x[324] + 10.6 x[325] + 10.5 x[326] + 10.5 x[327] + 10.5 x[328] + 10.5 x[329] + 10.5 x[330] + 10.4 x[331] + 10.4 x[332] + 10.4 x[333] + 10.3 x[334] + 10.3 x[335] + 10.2 x[336] + 10.2 x[337] + 10.2 x[338] + 10.1 x[339] + 10.1 x[340] + 10.1 x[341] + 10 x[342] + 10 x[343] + 10 x[344] + 9.9 x[345] + 9.9 x[346] + 9.9 x[347] + 9.9 x[348] + 9.8 x[349] + 9.7 x[350] + 9.7 x[351] + 9.6 x[352] + 9.6 x[353] + 9.6 x[354] + 9.5 x[355] + 9.5 x[356] + 9.4 x[357] + 9.4 x[358] + 9.4 x[359] + 9.4 x[360] + 9.3 x[361] + 9.3 x[362] + 9.3 x[363] + 9.2 x[364] + 9.2 x[365] + 9.2 x[366] + 9.1 x[367] + 9.1 x[368] + 9 x[369] + 9 x[370] + 8.9 x[371] + 8.9 x[372] + 8.9 x[373] + 8.8 x[374] + 8.8 x[375] + 8.8 x[376] + 8.8 x[377] + 8.8 x[378] + 8.7 x[379] + 8.7 x[380] + 8.6 x[381] + 8.6 x[382] + 8.6 x[383] + 8.5 x[384] + 8.4 x[385] + 8.4 x[386] + 8.4 x[387] + 8.3 x[388] + 8.2 x[389] + 8.1 x[390] + 8.1 x[391] + 7.9 x[392] + 7.9 x[393] + 7.9 x[394] + 7.7 x[395] + 7.7 x[396] + 7.6 x[397] + 7.5 x[398] + 7.4 x[399] + 7.4 x[400] + 7.3 x[401] + 7.2 x[402] + 7 x[403] + 7 x[404] + 6.8 x[405] + 6.7 x[406] + 6.7 x[407] + 6.5 x[408] + 6.5 x[409] + 6.5 x[410] + 6.5 x[411] + 6.3 x[412] + 6.3 x[413] + 6.3 x[414] + 6.3 x[415] + 6.2 x[416] + 6.2 x[417] + 6.1 x[418] + 6.1 x[419] + 6 x[420] + 6 x[421] + 6 x[422] + 5.9 x[423] + 5.6 x[424] + 5.6 x[425] + 5.4 x[426] + 5.4 x[427] + 4.3 x[428] + 3.6 x[429] + 2.6 x[430] + 2.4 x[431] + 2 x[432] + 1.2 x[433] + 1.2 x[434] - 0.2 x[435] - 1.4 x[436] - 3.2 x[437] - 3.5 x[438] - 3.5 x[439] - 5 x[440] - 10.7 x[441]"
      ]
     },
     "execution_count": 30,
     "metadata": {},
     "output_type": "execute_result"
    }
   ],
   "source": [
    "warriors = Model(GLPK.Optimizer)\n",
    "n = nrow(df)\n",
    "c = df[1:n, 6]\n",
    "a = df[1:n, 7]\n",
    "mat = df[1:n ,8:12]\n",
    "CENTER = df[1:n,8]\n",
    "POWER_F = df[1:n,12]\n",
    "\n",
    "min_m = df[!,5]\n",
    "mp = df[!,4]\n",
    "\n",
    "@variable(warriors, x[i=1:n], Bin)\n",
    "\n",
    "# add requirements for players to include\n",
    "for player in include_players\n",
    "    player_index = findfirst(x -> occursin(player, x), df.Player)\n",
    "    @constraint(warriors, sum(x[player_index]) == 1)\n",
    "end\n",
    "\n",
    "# add requirements for players to NOT include\n",
    "for player in not_include_players\n",
    "    player_index = findfirst(x -> occursin(player, x), df.Player)\n",
    "    @constraint(warriors, sum(x[player_index]) == 0)\n",
    "end\n",
    "\n",
    "# budget\n",
    "@constraint(warriors, sum(a[i]*x[i] for i = 1:n) <= budget)\n",
    "\n",
    "# 14 <= number of players <= 15\n",
    "@constraint(warriors, sum(x[i] for i=1:n) <= 15)\n",
    "@constraint(warriors, sum(x[i] for i=1:n) >= 14)\n",
    "\n",
    "\n",
    "# sum of CENTER column is 0 to make sure we include 0 centers\n",
    "@constraint(warriors, sum(CENTER[i]*x[i] for i=1:n) == 0)\n",
    "\n",
    "# sum of POWER_F column is 0 to make sure we include 0 power forwards\n",
    "@constraint(warriors, sum(POWER_F[i]*x[i] for i=1:n) == 0)\n",
    "\n",
    "for i = 1:n\n",
    "    @constraint(warriors, mp[i] >= min_m[i]*x[i])\n",
    "end\n",
    "\n",
    "@objective(warriors, Max, sum(c[j]*x[j] for j=1:n))"
   ]
  },
  {
   "cell_type": "code",
   "execution_count": 31,
   "id": "f79e0ddc",
   "metadata": {},
   "outputs": [
    {
     "name": "stdout",
     "output_type": "stream",
     "text": [
      "Objective value: 290.7\n",
      "Average PER:19.38\n"
     ]
    }
   ],
   "source": [
    "JuMP.optimize!(warriors)\n",
    "\n",
    "println(\"Objective value: \", JuMP.objective_value(warriors))\n",
    "\n",
    "println(\"Average PER:\", (JuMP.objective_value(warriors))/15)"
   ]
  },
  {
   "cell_type": "code",
   "execution_count": 32,
   "id": "ab59d593",
   "metadata": {},
   "outputs": [
    {
     "data": {
      "text/html": [
       "<div><div style = \"float: left;\"><span>15×4 DataFrame</span></div><div style = \"clear: both;\"></div></div><div class = \"data-frame\" style = \"overflow-x: scroll;\"><table class = \"data-frame\" style = \"margin-bottom: 6px;\"><thead><tr class = \"header\"><th class = \"rowNumber\" style = \"font-weight: bold; text-align: right;\">Row</th><th style = \"text-align: left;\">Player</th><th style = \"text-align: left;\">Pos</th><th style = \"text-align: left;\">PER</th><th style = \"text-align: left;\">X2022_23</th></tr><tr class = \"subheader headerLastRow\"><th class = \"rowNumber\" style = \"font-weight: bold; text-align: right;\"></th><th title = \"String\" style = \"text-align: left;\">String</th><th title = \"String7\" style = \"text-align: left;\">String7</th><th title = \"Float64\" style = \"text-align: left;\">Float64</th><th title = \"Union{Missing, Int64}\" style = \"text-align: left;\">Int64?</th></tr></thead><tbody><tr><td class = \"rowNumber\" style = \"font-weight: bold; text-align: right;\">1</td><td style = \"text-align: left;\">Luka Doncic</td><td style = \"text-align: left;\">PG</td><td style = \"text-align: right;\">30.2</td><td style = \"text-align: right;\">37096500</td></tr><tr><td class = \"rowNumber\" style = \"font-weight: bold; text-align: right;\">2</td><td style = \"text-align: left;\">Stephen Curry</td><td style = \"text-align: left;\">PG</td><td style = \"text-align: right;\">24.8</td><td style = \"text-align: right;\">48070014</td></tr><tr><td class = \"rowNumber\" style = \"font-weight: bold; text-align: right;\">3</td><td style = \"text-align: left;\">Ja Morant</td><td style = \"text-align: left;\">PG</td><td style = \"text-align: right;\">23.7</td><td style = \"text-align: right;\">12119440</td></tr><tr><td class = \"rowNumber\" style = \"font-weight: bold; text-align: right;\">4</td><td style = \"text-align: left;\">Tyrese Haliburton</td><td style = \"text-align: left;\">PG</td><td style = \"text-align: right;\">22.7</td><td style = \"text-align: right;\">4215120</td></tr><tr><td class = \"rowNumber\" style = \"font-weight: bold; text-align: right;\">5</td><td style = \"text-align: left;\">Lauri Markkanen</td><td style = \"text-align: left;\">SF</td><td style = \"text-align: right;\">22.5</td><td style = \"text-align: right;\">16475454</td></tr><tr><td class = \"rowNumber\" style = \"font-weight: bold; text-align: right;\">6</td><td style = \"text-align: left;\">Darius Garland</td><td style = \"text-align: left;\">PG</td><td style = \"text-align: right;\">19.7</td><td style = \"text-align: right;\">8920795</td></tr><tr><td class = \"rowNumber\" style = \"font-weight: bold; text-align: right;\">7</td><td style = \"text-align: left;\">Desmond Bane</td><td style = \"text-align: left;\">SG</td><td style = \"text-align: right;\">19.2</td><td style = \"text-align: right;\">2130240</td></tr><tr><td class = \"rowNumber\" style = \"font-weight: bold; text-align: right;\">8</td><td style = \"text-align: left;\">Isaiah Joe</td><td style = \"text-align: left;\">SG</td><td style = \"text-align: right;\">17.0</td><td style = \"text-align: right;\">1836090</td></tr><tr><td class = \"rowNumber\" style = \"font-weight: bold; text-align: right;\">9</td><td style = \"text-align: left;\">Devin Vassell</td><td style = \"text-align: left;\">SG</td><td style = \"text-align: right;\">16.6</td><td style = \"text-align: right;\">4437000</td></tr><tr><td class = \"rowNumber\" style = \"font-weight: bold; text-align: right;\">10</td><td style = \"text-align: left;\">Cam Thomas</td><td style = \"text-align: left;\">SG</td><td style = \"text-align: right;\">16.4</td><td style = \"text-align: right;\">2138160</td></tr><tr><td class = \"rowNumber\" style = \"font-weight: bold; text-align: right;\">11</td><td style = \"text-align: left;\">Tyrese Maxey</td><td style = \"text-align: left;\">SG</td><td style = \"text-align: right;\">16.0</td><td style = \"text-align: right;\">2726880</td></tr><tr><td class = \"rowNumber\" style = \"font-weight: bold; text-align: right;\">12</td><td style = \"text-align: left;\">Cole Anthony</td><td style = \"text-align: left;\">PG</td><td style = \"text-align: right;\">15.8</td><td style = \"text-align: right;\">3613680</td></tr><tr><td class = \"rowNumber\" style = \"font-weight: bold; text-align: right;\">13</td><td style = \"text-align: left;\">Joe Wieskamp</td><td style = \"text-align: left;\">SF</td><td style = \"text-align: right;\">15.7</td><td style = \"text-align: right;\">2175000</td></tr><tr><td class = \"rowNumber\" style = \"font-weight: bold; text-align: right;\">14</td><td style = \"text-align: left;\">Javonte Green</td><td style = \"text-align: left;\">SG</td><td style = \"text-align: right;\">15.4</td><td style = \"text-align: right;\">1815677</td></tr><tr><td class = \"rowNumber\" style = \"font-weight: bold; text-align: right;\">15</td><td style = \"text-align: left;\">Kenyon Martin Jr.</td><td style = \"text-align: left;\">SF</td><td style = \"text-align: right;\">15.0</td><td style = \"text-align: right;\">1782621</td></tr></tbody></table></div>"
      ],
      "text/latex": [
       "\\begin{tabular}{r|cccc}\n",
       "\t& Player & Pos & PER & X2022\\_23\\\\\n",
       "\t\\hline\n",
       "\t& String & String7 & Float64 & Int64?\\\\\n",
       "\t\\hline\n",
       "\t1 & Luka Doncic & PG & 30.2 & 37096500 \\\\\n",
       "\t2 & Stephen Curry & PG & 24.8 & 48070014 \\\\\n",
       "\t3 & Ja Morant & PG & 23.7 & 12119440 \\\\\n",
       "\t4 & Tyrese Haliburton & PG & 22.7 & 4215120 \\\\\n",
       "\t5 & Lauri Markkanen & SF & 22.5 & 16475454 \\\\\n",
       "\t6 & Darius Garland & PG & 19.7 & 8920795 \\\\\n",
       "\t7 & Desmond Bane & SG & 19.2 & 2130240 \\\\\n",
       "\t8 & Isaiah Joe & SG & 17.0 & 1836090 \\\\\n",
       "\t9 & Devin Vassell & SG & 16.6 & 4437000 \\\\\n",
       "\t10 & Cam Thomas & SG & 16.4 & 2138160 \\\\\n",
       "\t11 & Tyrese Maxey & SG & 16.0 & 2726880 \\\\\n",
       "\t12 & Cole Anthony & PG & 15.8 & 3613680 \\\\\n",
       "\t13 & Joe Wieskamp & SF & 15.7 & 2175000 \\\\\n",
       "\t14 & Javonte Green & SG & 15.4 & 1815677 \\\\\n",
       "\t15 & Kenyon Martin Jr. & SF & 15.0 & 1782621 \\\\\n",
       "\\end{tabular}\n"
      ],
      "text/plain": [
       "\u001b[1m15×4 DataFrame\u001b[0m\n",
       "\u001b[1m Row \u001b[0m│\u001b[1m Player            \u001b[0m\u001b[1m Pos     \u001b[0m\u001b[1m PER     \u001b[0m\u001b[1m X2022_23 \u001b[0m\n",
       "     │\u001b[90m String            \u001b[0m\u001b[90m String7 \u001b[0m\u001b[90m Float64 \u001b[0m\u001b[90m Int64?   \u001b[0m\n",
       "─────┼───────────────────────────────────────────────\n",
       "   1 │ Luka Doncic        PG          30.2  37096500\n",
       "   2 │ Stephen Curry      PG          24.8  48070014\n",
       "   3 │ Ja Morant          PG          23.7  12119440\n",
       "   4 │ Tyrese Haliburton  PG          22.7   4215120\n",
       "   5 │ Lauri Markkanen    SF          22.5  16475454\n",
       "   6 │ Darius Garland     PG          19.7   8920795\n",
       "   7 │ Desmond Bane       SG          19.2   2130240\n",
       "   8 │ Isaiah Joe         SG          17.0   1836090\n",
       "   9 │ Devin Vassell      SG          16.6   4437000\n",
       "  10 │ Cam Thomas         SG          16.4   2138160\n",
       "  11 │ Tyrese Maxey       SG          16.0   2726880\n",
       "  12 │ Cole Anthony       PG          15.8   3613680\n",
       "  13 │ Joe Wieskamp       SF          15.7   2175000\n",
       "  14 │ Javonte Green      SG          15.4   1815677\n",
       "  15 │ Kenyon Martin Jr.  SF          15.0   1782621"
      ]
     },
     "execution_count": 32,
     "metadata": {},
     "output_type": "execute_result"
    }
   ],
   "source": [
    "# This is our team. Notice it is all PG, SG and SF. Mainly 3-point shooters\n",
    "\n",
    "vector = JuMP.value.(x)\n",
    "guess = df[find_players_binary(vector), [2,3,6,7]]"
   ]
  },
  {
   "cell_type": "code",
   "execution_count": 33,
   "id": "5b568557",
   "metadata": {},
   "outputs": [
    {
     "data": {
      "text/plain": [
       "149552671"
      ]
     },
     "execution_count": 33,
     "metadata": {},
     "output_type": "execute_result"
    }
   ],
   "source": [
    "sum(guess[:,4]) # Total salary for this team. It stays under the amount we said"
   ]
  }
 ],
 "metadata": {
  "kernelspec": {
   "display_name": "Julia 1.8.4",
   "language": "julia",
   "name": "julia-1.8"
  },
  "language_info": {
   "file_extension": ".jl",
   "mimetype": "application/julia",
   "name": "julia",
   "version": "1.8.4"
  }
 },
 "nbformat": 4,
 "nbformat_minor": 5
}
